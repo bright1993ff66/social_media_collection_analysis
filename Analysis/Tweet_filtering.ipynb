{
 "cells": [
  {
   "cell_type": "code",
   "execution_count": 1,
   "metadata": {},
   "outputs": [],
   "source": [
    "# basics\n",
    "import os\n",
    "import numpy as np\n",
    "import pandas as pd\n",
    "import re\n",
    "import string\n",
    "from collections import Counter\n",
    "from pathlib import Path\n",
    "\n",
    "# for time analysis\n",
    "import pytz\n",
    "from datetime import datetime\n",
    "\n",
    "# spatial analysis\n",
    "import geopandas as gpd\n",
    "\n",
    "# visualizations\n",
    "from matplotlib import pyplot as plt"
   ]
  },
  {
   "cell_type": "markdown",
   "metadata": {},
   "source": [
    "# 0. Prepare the paths, data, and more"
   ]
  },
  {
   "cell_type": "code",
   "execution_count": 2,
   "metadata": {},
   "outputs": [],
   "source": [
    "class DataPrepare(object):\n",
    "    \n",
    "    project_path = r'D:\\Projects\\count_tweet'  # Specify a project directory\n",
    "    shapefile_path = r'D:\\Projects\\Hong Kong Tweets Combined\\shapefiles'  # Specify the path to city shapefile\n",
    "    # Get all the punctuations\\\n",
    "    punctuations_all = string.punctuation + '。，﹑？！：；“”（）《》•……【】'\n",
    "    \n",
    "    def __init__(self, city_name, timezone, tweet_path, city_shapefile_name):\n",
    "        \"\"\"\n",
    "        Prepare the city name, timezone, and path for the tweet data\n",
    "        :param city_name: the name of a city\n",
    "        :param timezone: the timezone of a city\n",
    "        :param tweet_path: the path saving the tweet csv data\n",
    "        \"\"\"\n",
    "        self.city_name = city_name\n",
    "        self.timezone = timezone\n",
    "        self.tweet_path = tweet_path\n",
    "        self.city_shapefile_loc = os.path.join(DataPrepare.shapefile_path, city_shapefile_name)\n",
    "        \n",
    "    def __str__(self):\n",
    "        \"\"\"\n",
    "        Print the basic information about the processed city\n",
    "        \"\"\"\n",
    "        total_size = DataPrepare.filesize(self.get_size())\n",
    "        string = 'city: {}\\ntimezone: {}\\ndata path: {}\\ntotal size: {}\\nshapefile: {}'.format(\n",
    "            self.city_name, self.timezone, self.tweet_path, total_size, self.city_shapefile_loc)\n",
    "        return string\n",
    "    \n",
    "    def get_size(self) -> int:\n",
    "        \"\"\"\n",
    "        Get the size of all files in one directory in bytes\n",
    "        \"\"\"\n",
    "        return sum(p.stat().st_size for p in Path(self.tweet_path).rglob('*'))\n",
    "    \n",
    "    def get_combined_tweets(self, return_geodata = False) -> pd.DataFrame:\n",
    "        \"\"\"\n",
    "        Get the combined tweet dataframe\n",
    "        \"\"\"\n",
    "        dataframe_list = []\n",
    "        for file in os.listdir(self.tweet_path):\n",
    "            dataframe = pd.read_csv(os.path.join(self.tweet_path, file), encoding='utf-8', index_col=0)\n",
    "            dataframe_list.append(dataframe)\n",
    "        concat_data = pd.concat(dataframe_list, axis=0).reset_index(drop = True)\n",
    "        DataPrepare.data_overview(concat_data)\n",
    "        return concat_data\n",
    "    \n",
    "    def find_tweet_in_city(self, dataframe):\n",
    "        \"\"\"\n",
    "        Find the tweets posted in the city based on the 'lat' and 'lon' columns\n",
    "        :param dataframe: a pandas dataframe saving the geocoded tweets\n",
    "        :return: tweets posted in the city\n",
    "        \"\"\"\n",
    "        if (dataframe['lat'].dtype.name != 'float64') or (dataframe['lon'].dtype.name != 'float64'):\n",
    "            dataframe_copy = dataframe.copy()\n",
    "            dataframe_copy['lat'] = dataframe_copy['lat'].astype(str)\n",
    "            dataframe_copy['lon'] = dataframe_copy['lon'].astype(str)\n",
    "            dataframe_copy_select = dataframe_copy[dataframe_copy['lat'].str.startswith(\n",
    "                lat_lon_start_tuple)]\n",
    "            dataframe_final = dataframe_copy_select[dataframe_copy_select['lon'].str.startswith(\n",
    "                lat_lon_start_tuple)].copy()\n",
    "            dataframe_final['lat'] = dataframe_final['lat'].astype(np.float64)\n",
    "            dataframe_final['lon'] = dataframe_final['lon'].astype(np.float64)\n",
    "        else:\n",
    "            dataframe_final = dataframe.copy()\n",
    "        geocoded_tweet_gdf = gpd.GeoDataFrame(dataframe_final,\n",
    "                                              geometry=gpd.points_from_xy(dataframe_final.lon,\n",
    "                                                                          dataframe_final.lat))\n",
    "        geocoded_tweet_gdf = geocoded_tweet_gdf.set_crs(epsg=4326, inplace=True)\n",
    "        city_shape = gpd.read_file(self.city_shapefile_loc)\n",
    "        city_shape_4326 = city_shape.to_crs(epsg=4326)\n",
    "        joined_data_final = DataPrepare.spatial_join(tweet_gdf=geocoded_tweet_gdf, shape_area=city_shape_4326)\n",
    "        return joined_data_final.reset_index(drop=True)\n",
    "    \n",
    "    def get_city_shapefile(self):\n",
    "        city_shape = gpd.read_file(self.city_shapefile_loc)\n",
    "        return city_shape\n",
    "    \n",
    "    @staticmethod\n",
    "    def get_geodataframe(tweet_dataframe):\n",
    "        \"\"\"\n",
    "        Get the corresponding tweet geodataframe\n",
    "        \"\"\"\n",
    "        geocoded_tweet_gdf = gpd.GeoDataFrame(\n",
    "            tweet_dataframe, geometry=gpd.points_from_xy(\n",
    "                tweet_dataframe.lon, tweet_dataframe.lat))\n",
    "        return geocoded_tweet_gdf\n",
    "    \n",
    "    @staticmethod\n",
    "    def filesize(size: int) -> str:\n",
    "        for unit in (\"B\", \"K\", \"M\", \"G\"):\n",
    "            if size < 1024:\n",
    "                break\n",
    "            size /= 1024\n",
    "        return f\"{size:.1f}{unit}\"\n",
    "    \n",
    "    @staticmethod\n",
    "    def data_overview(dataframe: pd.DataFrame):\n",
    "        assert 'user_id_str' in dataframe, \"The dataframe should contain user id column\"\n",
    "        assert 'id_str' in dataframe, \"The dataframe should contain tweet id column\"\n",
    "        tweet_num = len(set(dataframe['id_str']))\n",
    "        user_num = len(set(dataframe['user_id_str']))\n",
    "        print('# of Users: {}; # of Tweets: {}'.format(user_num, tweet_num))\n",
    "        \n",
    "    @staticmethod\n",
    "    def spatial_join(tweet_gdf, shape_area):\n",
    "        \"\"\"\n",
    "        Find the tweets posted in one city's open space\n",
    "        :param tweet_gdf: the geopandas dataframe saving the tweets\n",
    "        :param shape_area: the shapefile of a studied area, such as city, open space, etc\n",
    "        :return: tweets posted in open space\n",
    "        \"\"\"\n",
    "        assert tweet_gdf.crs == shape_area.crs, 'The coordinate systems do not match!'\n",
    "        joined_data = gpd.sjoin(left_df=tweet_gdf, right_df=shape_area, op='within')\n",
    "        joined_data_final = joined_data.drop_duplicates(subset=['id_str'])\n",
    "        return joined_data_final"
   ]
  },
  {
   "cell_type": "code",
   "execution_count": 3,
   "metadata": {},
   "outputs": [],
   "source": [
    "HK_city = DataPrepare(city_name='Hong Kong', timezone=pytz.timezone('Asia/Shanghai'), \n",
    "                      tweet_path=os.path.join(DataPrepare.project_path, 'hk_tweets_2021'), \n",
    "                     city_shapefile_name='hk_tpu_project.shp')"
   ]
  },
  {
   "cell_type": "code",
   "execution_count": 4,
   "metadata": {},
   "outputs": [
    {
     "name": "stdout",
     "output_type": "stream",
     "text": [
      "city: Hong Kong\n",
      "timezone: Asia/Shanghai\n",
      "data path: D:\\Projects\\count_tweet\\hk_tweets_2021\n",
      "total size: 26.7M\n",
      "shapefile: D:\\Projects\\Hong Kong Tweets Combined\\shapefiles\\hk_tpu_project.shp\n"
     ]
    }
   ],
   "source": [
    "print(HK_city)"
   ]
  },
  {
   "cell_type": "code",
   "execution_count": 5,
   "metadata": {},
   "outputs": [
    {
     "name": "stdout",
     "output_type": "stream",
     "text": [
      "# of Users: 5802; # of Tweets: 36666\n"
     ]
    }
   ],
   "source": [
    "# get some tweets posted in HK\n",
    "HK_tweets = HK_city.get_combined_tweets()"
   ]
  },
  {
   "cell_type": "markdown",
   "metadata": {},
   "source": [
    "# 1. Tweet filtering process\n",
    "\n",
    "The tweet filtering process consists of the following steps:\n",
    "\n",
    "1. Select the preferred language. In this case, we will only consider the English and Chinese. The language information can be seen from the ```lang``` column.\n",
    "2. Get the geocoded tweets. The geocoded tweets have latitude and longitude informaiton, recorded in the ```lat``` and ```lon``` columns.\n",
    "3. Only consider the tweets posted in a specific geographic boundary. In this case, we only consider the tweets posted in the Hong Kong\n",
    "4. Remove the verified and bot accounts. The verified accounts, which are mostly run by organizations and celebrities, should be excluded in most urban studies. Whether one account is \"verified\" or not is shown in the ```verified``` column. Moreover, to remove the bot accounts, we use the following rules to delete the accounts:\n",
    "    - whose number of tweets is 2 standard deviations away from the mean of the users from that city.\n",
    "    - whose most identified geographic footprint (latitude & longitude pair) accounts for over 60% of all the footprints."
   ]
  },
  {
   "cell_type": "markdown",
   "metadata": {},
   "source": [
    "## 1.1 Select the tweets posted in English and Chinese\n",
    "\n",
    "Please follow the [language code list](https://www.loc.gov/standards/iso639-2/php/code_list.php) to select the language type you want.\n",
    "\n",
    "Here 'zh' represents Chinese and 'en' denotes English."
   ]
  },
  {
   "cell_type": "code",
   "execution_count": 6,
   "metadata": {},
   "outputs": [],
   "source": [
    "HK_tweets_en_zh = HK_tweets.loc[HK_tweets['lang'].isin(['en', 'zh'])]"
   ]
  },
  {
   "cell_type": "code",
   "execution_count": 7,
   "metadata": {},
   "outputs": [
    {
     "name": "stdout",
     "output_type": "stream",
     "text": [
      "# of Users: 4458; # of Tweets: 20699\n"
     ]
    }
   ],
   "source": [
    "DataPrepare.data_overview(HK_tweets_en_zh)"
   ]
  },
  {
   "cell_type": "markdown",
   "metadata": {},
   "source": [
    "## 1.2 Get the Geocoded Tweets"
   ]
  },
  {
   "cell_type": "code",
   "execution_count": 8,
   "metadata": {},
   "outputs": [],
   "source": [
    "HK_tweets_geocoded = HK_tweets_en_zh[~HK_tweets_en_zh['lat'].isna()]"
   ]
  },
  {
   "cell_type": "code",
   "execution_count": 9,
   "metadata": {},
   "outputs": [
    {
     "name": "stdout",
     "output_type": "stream",
     "text": [
      "# of Users: 577; # of Tweets: 2198\n"
     ]
    }
   ],
   "source": [
    "DataPrepare.data_overview(HK_tweets_geocoded)"
   ]
  },
  {
   "cell_type": "code",
   "execution_count": 10,
   "metadata": {},
   "outputs": [
    {
     "data": {
      "text/html": [
       "<div>\n",
       "<style scoped>\n",
       "    .dataframe tbody tr th:only-of-type {\n",
       "        vertical-align: middle;\n",
       "    }\n",
       "\n",
       "    .dataframe tbody tr th {\n",
       "        vertical-align: top;\n",
       "    }\n",
       "\n",
       "    .dataframe thead th {\n",
       "        text-align: right;\n",
       "    }\n",
       "</style>\n",
       "<table border=\"1\" class=\"dataframe\">\n",
       "  <thead>\n",
       "    <tr style=\"text-align: right;\">\n",
       "      <th></th>\n",
       "      <th>text</th>\n",
       "      <th>retweet_count</th>\n",
       "      <th>favorite_count</th>\n",
       "      <th>favorited</th>\n",
       "      <th>truncated</th>\n",
       "      <th>id_str</th>\n",
       "      <th>in_reply_to_screen_name</th>\n",
       "      <th>source</th>\n",
       "      <th>retweeted</th>\n",
       "      <th>created_at</th>\n",
       "      <th>...</th>\n",
       "      <th>place_type</th>\n",
       "      <th>full_name</th>\n",
       "      <th>place_name</th>\n",
       "      <th>place_id</th>\n",
       "      <th>place_lat</th>\n",
       "      <th>place_lon</th>\n",
       "      <th>lat</th>\n",
       "      <th>lon</th>\n",
       "      <th>expanded_url</th>\n",
       "      <th>url</th>\n",
       "    </tr>\n",
       "  </thead>\n",
       "  <tbody>\n",
       "    <tr>\n",
       "      <th>14272</th>\n",
       "      <td>Just posted a photo @ Central Plaza, Wan Chai,...</td>\n",
       "      <td>0</td>\n",
       "      <td>0</td>\n",
       "      <td>False</td>\n",
       "      <td>False</td>\n",
       "      <td>1432204247987363845</td>\n",
       "      <td>NaN</td>\n",
       "      <td>&lt;a href=\"http://instagram.com\" rel=\"nofollow\"&gt;...</td>\n",
       "      <td>False</td>\n",
       "      <td>Mon Aug 30 04:51:16 +0000 2021</td>\n",
       "      <td>...</td>\n",
       "      <td>NaN</td>\n",
       "      <td>Wan Chai District, Hong Kong</td>\n",
       "      <td>Wan Chai District</td>\n",
       "      <td>01cb3bd54f92388e</td>\n",
       "      <td>22.271674</td>\n",
       "      <td>114.185178</td>\n",
       "      <td>22.279692</td>\n",
       "      <td>114.173765</td>\n",
       "      <td>https://www.instagram.com/p/CTL48oIhK3D/?utm_m...</td>\n",
       "      <td>https://t.co/15ed4m4g0I</td>\n",
       "    </tr>\n",
       "    <tr>\n",
       "      <th>23682</th>\n",
       "      <td>I'm at TCL Eagle Lab in Shenzhen, Guangdong ht...</td>\n",
       "      <td>0</td>\n",
       "      <td>0</td>\n",
       "      <td>False</td>\n",
       "      <td>False</td>\n",
       "      <td>1433380511859290113</td>\n",
       "      <td>NaN</td>\n",
       "      <td>&lt;a href=\"http://foursquare.com\" rel=\"nofollow\"...</td>\n",
       "      <td>False</td>\n",
       "      <td>Thu Sep 02 10:45:19 +0000 2021</td>\n",
       "      <td>...</td>\n",
       "      <td>NaN</td>\n",
       "      <td>Guangdong, People's Republic of China</td>\n",
       "      <td>Guangdong</td>\n",
       "      <td>00059b04495a7e37</td>\n",
       "      <td>22.869936</td>\n",
       "      <td>113.419725</td>\n",
       "      <td>22.577279</td>\n",
       "      <td>113.922686</td>\n",
       "      <td>https://www.swarmapp.com/c/0J1s5dfWbT1</td>\n",
       "      <td>https://t.co/c4jpuNBDog</td>\n",
       "    </tr>\n",
       "    <tr>\n",
       "      <th>5304</th>\n",
       "      <td>custom hot sale baseball jersey,no MOQ limit @...</td>\n",
       "      <td>0</td>\n",
       "      <td>0</td>\n",
       "      <td>False</td>\n",
       "      <td>False</td>\n",
       "      <td>1431083520689123332</td>\n",
       "      <td>NaN</td>\n",
       "      <td>&lt;a href=\"http://instagram.com\" rel=\"nofollow\"&gt;...</td>\n",
       "      <td>False</td>\n",
       "      <td>Fri Aug 27 02:37:54 +0000 2021</td>\n",
       "      <td>...</td>\n",
       "      <td>NaN</td>\n",
       "      <td>广东, 中华人民共和国</td>\n",
       "      <td>广东</td>\n",
       "      <td>00059b04495a7e37</td>\n",
       "      <td>22.869936</td>\n",
       "      <td>113.419725</td>\n",
       "      <td>22.643476</td>\n",
       "      <td>114.177665</td>\n",
       "      <td>https://www.instagram.com/p/CTD7TRYFRIU/?utm_m...</td>\n",
       "      <td>https://t.co/qcsJcqyfbY</td>\n",
       "    </tr>\n",
       "    <tr>\n",
       "      <th>23448</th>\n",
       "      <td>My three princess.\\nLove you always. #daughter...</td>\n",
       "      <td>0</td>\n",
       "      <td>0</td>\n",
       "      <td>False</td>\n",
       "      <td>False</td>\n",
       "      <td>1433359730202796035</td>\n",
       "      <td>NaN</td>\n",
       "      <td>&lt;a href=\"http://instagram.com\" rel=\"nofollow\"&gt;...</td>\n",
       "      <td>False</td>\n",
       "      <td>Thu Sep 02 09:22:44 +0000 2021</td>\n",
       "      <td>...</td>\n",
       "      <td>NaN</td>\n",
       "      <td>Central &amp; Western District, Hong Kong</td>\n",
       "      <td>Central &amp; Western District</td>\n",
       "      <td>011a1d1e753ec5a8</td>\n",
       "      <td>22.276870</td>\n",
       "      <td>114.139883</td>\n",
       "      <td>22.282600</td>\n",
       "      <td>114.158000</td>\n",
       "      <td>https://www.instagram.com/p/CTUGZgwhxBf/?utm_m...</td>\n",
       "      <td>https://t.co/v1pw1fiA1Q</td>\n",
       "    </tr>\n",
       "    <tr>\n",
       "      <th>408</th>\n",
       "      <td>簡簡單單飲下茶 @ Regal Hongkong Hotel https://t.co/vK...</td>\n",
       "      <td>0</td>\n",
       "      <td>0</td>\n",
       "      <td>False</td>\n",
       "      <td>False</td>\n",
       "      <td>1430458988894855171</td>\n",
       "      <td>NaN</td>\n",
       "      <td>&lt;a href=\"http://instagram.com\" rel=\"nofollow\"&gt;...</td>\n",
       "      <td>False</td>\n",
       "      <td>Wed Aug 25 09:16:14 +0000 2021</td>\n",
       "      <td>...</td>\n",
       "      <td>NaN</td>\n",
       "      <td>Wan Chai District, Hong Kong</td>\n",
       "      <td>Wan Chai District</td>\n",
       "      <td>01cb3bd54f92388e</td>\n",
       "      <td>22.271674</td>\n",
       "      <td>114.185178</td>\n",
       "      <td>22.279297</td>\n",
       "      <td>114.186937</td>\n",
       "      <td>https://www.instagram.com/p/CS_fS6ipX_uA9VQ-pN...</td>\n",
       "      <td>https://t.co/vKQow7oPZp</td>\n",
       "    </tr>\n",
       "    <tr>\n",
       "      <th>35669</th>\n",
       "      <td>Good morning, #FreeIavanLam! :) #Sunrise 06:08...</td>\n",
       "      <td>0</td>\n",
       "      <td>0</td>\n",
       "      <td>False</td>\n",
       "      <td>False</td>\n",
       "      <td>1435001968804704256</td>\n",
       "      <td>NaN</td>\n",
       "      <td>&lt;a href=\"http://enotty.dk/\" rel=\"nofollow\"&gt;cip...</td>\n",
       "      <td>False</td>\n",
       "      <td>Mon Sep 06 22:08:25 +0000 2021</td>\n",
       "      <td>...</td>\n",
       "      <td>NaN</td>\n",
       "      <td>Tsuen Wan District, Hong Kong</td>\n",
       "      <td>Tsuen Wan District</td>\n",
       "      <td>0118e53a43a7db78</td>\n",
       "      <td>22.365100</td>\n",
       "      <td>114.081927</td>\n",
       "      <td>22.396400</td>\n",
       "      <td>114.109500</td>\n",
       "      <td>NaN</td>\n",
       "      <td>NaN</td>\n",
       "    </tr>\n",
       "    <tr>\n",
       "      <th>16551</th>\n",
       "      <td>#samsmodel @panchox3 @ Sam's Tailor https://t....</td>\n",
       "      <td>0</td>\n",
       "      <td>0</td>\n",
       "      <td>False</td>\n",
       "      <td>False</td>\n",
       "      <td>1432458605865934849</td>\n",
       "      <td>NaN</td>\n",
       "      <td>&lt;a href=\"http://instagram.com\" rel=\"nofollow\"&gt;...</td>\n",
       "      <td>False</td>\n",
       "      <td>Mon Aug 30 21:42:00 +0000 2021</td>\n",
       "      <td>...</td>\n",
       "      <td>NaN</td>\n",
       "      <td>Yau Tsim Mong District, Hong Kong</td>\n",
       "      <td>Yau Tsim Mong District</td>\n",
       "      <td>00dabde4090bf3b3</td>\n",
       "      <td>22.307350</td>\n",
       "      <td>114.168002</td>\n",
       "      <td>22.299278</td>\n",
       "      <td>114.172197</td>\n",
       "      <td>https://www.instagram.com/p/CTNsnS6hCk7/?utm_m...</td>\n",
       "      <td>https://t.co/56o8SxISR8</td>\n",
       "    </tr>\n",
       "  </tbody>\n",
       "</table>\n",
       "<p>7 rows × 43 columns</p>\n",
       "</div>"
      ],
      "text/plain": [
       "                                                    text  retweet_count  \\\n",
       "14272  Just posted a photo @ Central Plaza, Wan Chai,...              0   \n",
       "23682  I'm at TCL Eagle Lab in Shenzhen, Guangdong ht...              0   \n",
       "5304   custom hot sale baseball jersey,no MOQ limit @...              0   \n",
       "23448  My three princess.\\nLove you always. #daughter...              0   \n",
       "408    簡簡單單飲下茶 @ Regal Hongkong Hotel https://t.co/vK...              0   \n",
       "35669  Good morning, #FreeIavanLam! :) #Sunrise 06:08...              0   \n",
       "16551  #samsmodel @panchox3 @ Sam's Tailor https://t....              0   \n",
       "\n",
       "       favorite_count  favorited  truncated               id_str  \\\n",
       "14272               0      False      False  1432204247987363845   \n",
       "23682               0      False      False  1433380511859290113   \n",
       "5304                0      False      False  1431083520689123332   \n",
       "23448               0      False      False  1433359730202796035   \n",
       "408                 0      False      False  1430458988894855171   \n",
       "35669               0      False      False  1435001968804704256   \n",
       "16551               0      False      False  1432458605865934849   \n",
       "\n",
       "      in_reply_to_screen_name  \\\n",
       "14272                     NaN   \n",
       "23682                     NaN   \n",
       "5304                      NaN   \n",
       "23448                     NaN   \n",
       "408                       NaN   \n",
       "35669                     NaN   \n",
       "16551                     NaN   \n",
       "\n",
       "                                                  source retweeted  \\\n",
       "14272  <a href=\"http://instagram.com\" rel=\"nofollow\">...     False   \n",
       "23682  <a href=\"http://foursquare.com\" rel=\"nofollow\"...     False   \n",
       "5304   <a href=\"http://instagram.com\" rel=\"nofollow\">...     False   \n",
       "23448  <a href=\"http://instagram.com\" rel=\"nofollow\">...     False   \n",
       "408    <a href=\"http://instagram.com\" rel=\"nofollow\">...     False   \n",
       "35669  <a href=\"http://enotty.dk/\" rel=\"nofollow\">cip...     False   \n",
       "16551  <a href=\"http://instagram.com\" rel=\"nofollow\">...     False   \n",
       "\n",
       "                           created_at  ...  place_type  \\\n",
       "14272  Mon Aug 30 04:51:16 +0000 2021  ...         NaN   \n",
       "23682  Thu Sep 02 10:45:19 +0000 2021  ...         NaN   \n",
       "5304   Fri Aug 27 02:37:54 +0000 2021  ...         NaN   \n",
       "23448  Thu Sep 02 09:22:44 +0000 2021  ...         NaN   \n",
       "408    Wed Aug 25 09:16:14 +0000 2021  ...         NaN   \n",
       "35669  Mon Sep 06 22:08:25 +0000 2021  ...         NaN   \n",
       "16551  Mon Aug 30 21:42:00 +0000 2021  ...         NaN   \n",
       "\n",
       "                                   full_name                  place_name  \\\n",
       "14272           Wan Chai District, Hong Kong           Wan Chai District   \n",
       "23682  Guangdong, People's Republic of China                   Guangdong   \n",
       "5304                             广东, 中华人民共和国                          广东   \n",
       "23448  Central & Western District, Hong Kong  Central & Western District   \n",
       "408             Wan Chai District, Hong Kong           Wan Chai District   \n",
       "35669          Tsuen Wan District, Hong Kong          Tsuen Wan District   \n",
       "16551      Yau Tsim Mong District, Hong Kong      Yau Tsim Mong District   \n",
       "\n",
       "               place_id  place_lat   place_lon        lat         lon  \\\n",
       "14272  01cb3bd54f92388e  22.271674  114.185178  22.279692  114.173765   \n",
       "23682  00059b04495a7e37  22.869936  113.419725  22.577279  113.922686   \n",
       "5304   00059b04495a7e37  22.869936  113.419725  22.643476  114.177665   \n",
       "23448  011a1d1e753ec5a8  22.276870  114.139883  22.282600  114.158000   \n",
       "408    01cb3bd54f92388e  22.271674  114.185178  22.279297  114.186937   \n",
       "35669  0118e53a43a7db78  22.365100  114.081927  22.396400  114.109500   \n",
       "16551  00dabde4090bf3b3  22.307350  114.168002  22.299278  114.172197   \n",
       "\n",
       "                                            expanded_url  \\\n",
       "14272  https://www.instagram.com/p/CTL48oIhK3D/?utm_m...   \n",
       "23682             https://www.swarmapp.com/c/0J1s5dfWbT1   \n",
       "5304   https://www.instagram.com/p/CTD7TRYFRIU/?utm_m...   \n",
       "23448  https://www.instagram.com/p/CTUGZgwhxBf/?utm_m...   \n",
       "408    https://www.instagram.com/p/CS_fS6ipX_uA9VQ-pN...   \n",
       "35669                                                NaN   \n",
       "16551  https://www.instagram.com/p/CTNsnS6hCk7/?utm_m...   \n",
       "\n",
       "                           url  \n",
       "14272  https://t.co/15ed4m4g0I  \n",
       "23682  https://t.co/c4jpuNBDog  \n",
       "5304   https://t.co/qcsJcqyfbY  \n",
       "23448  https://t.co/v1pw1fiA1Q  \n",
       "408    https://t.co/vKQow7oPZp  \n",
       "35669                      NaN  \n",
       "16551  https://t.co/56o8SxISR8  \n",
       "\n",
       "[7 rows x 43 columns]"
      ]
     },
     "execution_count": 10,
     "metadata": {},
     "output_type": "execute_result"
    }
   ],
   "source": [
    "HK_tweets_geocoded.sample(7)"
   ]
  },
  {
   "cell_type": "markdown",
   "metadata": {},
   "source": [
    "## 1.3 Only consider the tweets posted in HK"
   ]
  },
  {
   "cell_type": "code",
   "execution_count": 11,
   "metadata": {},
   "outputs": [],
   "source": [
    "HK_tweets_in_HK = HK_city.find_tweet_in_city(dataframe=HK_tweets_geocoded)"
   ]
  },
  {
   "cell_type": "code",
   "execution_count": 12,
   "metadata": {},
   "outputs": [
    {
     "name": "stdout",
     "output_type": "stream",
     "text": [
      "# of Users: 394; # of Tweets: 1373\n"
     ]
    }
   ],
   "source": [
    "DataPrepare.data_overview(HK_tweets_in_HK)"
   ]
  },
  {
   "cell_type": "markdown",
   "metadata": {},
   "source": [
    "Visualize the tweets and HK boundaries"
   ]
  },
  {
   "cell_type": "code",
   "execution_count": 13,
   "metadata": {},
   "outputs": [],
   "source": [
    "HK_tweets_gdf = DataPrepare.get_geodataframe(HK_tweets_in_HK).set_crs(epsg=4326).to_crs(epsg=2326)"
   ]
  },
  {
   "cell_type": "code",
   "execution_count": 14,
   "metadata": {},
   "outputs": [
    {
     "data": {
      "text/plain": [
       "<Projected CRS: EPSG:2326>\n",
       "Name: Hong Kong 1980 Grid System\n",
       "Axis Info [cartesian]:\n",
       "- N[north]: Northing (metre)\n",
       "- E[east]: Easting (metre)\n",
       "Area of Use:\n",
       "- name: China - Hong Kong - onshore and offshore.\n",
       "- bounds: (113.76, 22.13, 114.51, 22.58)\n",
       "Coordinate Operation:\n",
       "- name: Hong Kong 1980 Grid\n",
       "- method: Transverse Mercator\n",
       "Datum: Hong Kong 1980\n",
       "- Ellipsoid: International 1924\n",
       "- Prime Meridian: Greenwich"
      ]
     },
     "execution_count": 14,
     "metadata": {},
     "output_type": "execute_result"
    }
   ],
   "source": [
    "HK_tweets_gdf.crs"
   ]
  },
  {
   "cell_type": "code",
   "execution_count": 15,
   "metadata": {},
   "outputs": [
    {
     "name": "stdout",
     "output_type": "stream",
     "text": [
      "# of Users: 394; # of Tweets: 1373\n"
     ]
    }
   ],
   "source": [
    "DataPrepare.data_overview(HK_tweets_gdf)"
   ]
  },
  {
   "cell_type": "code",
   "execution_count": 16,
   "metadata": {},
   "outputs": [],
   "source": [
    "HK_city_shape = HK_city.get_city_shapefile()"
   ]
  },
  {
   "cell_type": "code",
   "execution_count": 17,
   "metadata": {},
   "outputs": [
    {
     "data": {
      "text/html": [
       "<div>\n",
       "<style scoped>\n",
       "    .dataframe tbody tr th:only-of-type {\n",
       "        vertical-align: middle;\n",
       "    }\n",
       "\n",
       "    .dataframe tbody tr th {\n",
       "        vertical-align: top;\n",
       "    }\n",
       "\n",
       "    .dataframe thead th {\n",
       "        text-align: right;\n",
       "    }\n",
       "</style>\n",
       "<table border=\"1\" class=\"dataframe\">\n",
       "  <thead>\n",
       "    <tr style=\"text-align: right;\">\n",
       "      <th></th>\n",
       "      <th>FID_1</th>\n",
       "      <th>merge_Nums</th>\n",
       "      <th>SmallTPU</th>\n",
       "      <th>Area</th>\n",
       "      <th>X</th>\n",
       "      <th>Y</th>\n",
       "      <th>geometry</th>\n",
       "    </tr>\n",
       "  </thead>\n",
       "  <tbody>\n",
       "    <tr>\n",
       "      <th>0</th>\n",
       "      <td>0</td>\n",
       "      <td>1.0</td>\n",
       "      <td>121 &amp; 122</td>\n",
       "      <td>5.096523e+05</td>\n",
       "      <td>834108.906504</td>\n",
       "      <td>816193.536025</td>\n",
       "      <td>POLYGON ((833855.500 816730.490, 833852.070 81...</td>\n",
       "    </tr>\n",
       "    <tr>\n",
       "      <th>1</th>\n",
       "      <td>1</td>\n",
       "      <td>2.0</td>\n",
       "      <td>123 &amp; 124</td>\n",
       "      <td>1.093609e+06</td>\n",
       "      <td>834801.541761</td>\n",
       "      <td>815716.124658</td>\n",
       "      <td>POLYGON ((834664.492 816415.378, 834710.125 81...</td>\n",
       "    </tr>\n",
       "    <tr>\n",
       "      <th>2</th>\n",
       "      <td>2</td>\n",
       "      <td>3.0</td>\n",
       "      <td>146 &amp; 147</td>\n",
       "      <td>6.480596e+05</td>\n",
       "      <td>837291.995943</td>\n",
       "      <td>815794.951399</td>\n",
       "      <td>POLYGON ((837536.146 816437.751, 837536.631 81...</td>\n",
       "    </tr>\n",
       "    <tr>\n",
       "      <th>3</th>\n",
       "      <td>3</td>\n",
       "      <td>4.0</td>\n",
       "      <td>156 &amp; 158</td>\n",
       "      <td>6.711841e+06</td>\n",
       "      <td>839940.770162</td>\n",
       "      <td>814559.406871</td>\n",
       "      <td>POLYGON ((839426.031 816282.149, 839426.091 81...</td>\n",
       "    </tr>\n",
       "    <tr>\n",
       "      <th>4</th>\n",
       "      <td>4</td>\n",
       "      <td>5.0</td>\n",
       "      <td>164 &amp; 165</td>\n",
       "      <td>2.235540e+06</td>\n",
       "      <td>842128.379729</td>\n",
       "      <td>813827.775535</td>\n",
       "      <td>POLYGON ((841744.812 815060.750, 841752.000 81...</td>\n",
       "    </tr>\n",
       "  </tbody>\n",
       "</table>\n",
       "</div>"
      ],
      "text/plain": [
       "   FID_1  merge_Nums   SmallTPU          Area              X              Y  \\\n",
       "0      0         1.0  121 & 122  5.096523e+05  834108.906504  816193.536025   \n",
       "1      1         2.0  123 & 124  1.093609e+06  834801.541761  815716.124658   \n",
       "2      2         3.0  146 & 147  6.480596e+05  837291.995943  815794.951399   \n",
       "3      3         4.0  156 & 158  6.711841e+06  839940.770162  814559.406871   \n",
       "4      4         5.0  164 & 165  2.235540e+06  842128.379729  813827.775535   \n",
       "\n",
       "                                            geometry  \n",
       "0  POLYGON ((833855.500 816730.490, 833852.070 81...  \n",
       "1  POLYGON ((834664.492 816415.378, 834710.125 81...  \n",
       "2  POLYGON ((837536.146 816437.751, 837536.631 81...  \n",
       "3  POLYGON ((839426.031 816282.149, 839426.091 81...  \n",
       "4  POLYGON ((841744.812 815060.750, 841752.000 81...  "
      ]
     },
     "execution_count": 17,
     "metadata": {},
     "output_type": "execute_result"
    }
   ],
   "source": [
    "HK_city_shape.head()"
   ]
  },
  {
   "cell_type": "code",
   "execution_count": 18,
   "metadata": {},
   "outputs": [
    {
     "data": {
      "text/plain": [
       "<Projected CRS: EPSG:2326>\n",
       "Name: Hong Kong 1980 Grid System\n",
       "Axis Info [cartesian]:\n",
       "- N[north]: Northing (metre)\n",
       "- E[east]: Easting (metre)\n",
       "Area of Use:\n",
       "- name: China - Hong Kong - onshore and offshore.\n",
       "- bounds: (113.76, 22.13, 114.51, 22.58)\n",
       "Coordinate Operation:\n",
       "- name: Hong Kong 1980 Grid\n",
       "- method: Transverse Mercator\n",
       "Datum: Hong Kong 1980\n",
       "- Ellipsoid: International 1924\n",
       "- Prime Meridian: Greenwich"
      ]
     },
     "execution_count": 18,
     "metadata": {},
     "output_type": "execute_result"
    }
   ],
   "source": [
    "HK_city_shape.crs"
   ]
  },
  {
   "cell_type": "markdown",
   "metadata": {},
   "source": [
    "Plot the geocoded tweets posted in Hong Kong"
   ]
  },
  {
   "cell_type": "code",
   "execution_count": 19,
   "metadata": {
    "scrolled": false
   },
   "outputs": [
    {
     "data": {
      "image/png": "[encoded data removed]",
      "text/plain": [
       "<Figure size 720x576 with 1 Axes>"
      ]
     },
     "metadata": {
      "needs_background": "light"
     },
     "output_type": "display_data"
    }
   ],
   "source": [
    "fig_hk_geo, axis_hk_geo = plt.subplots(1, 1, figsize=(10, 8))\n",
    "HK_tweets_gdf.plot(ax=axis_hk_geo, color='black', markersize=5, label='HK Geocoded Tweets')\n",
    "HK_city_shape.plot(ax=axis_hk_geo, alpha=0.5)\n",
    "axis_hk_geo.legend()\n",
    "plt.show()"
   ]
  },
  {
   "cell_type": "markdown",
   "metadata": {},
   "source": [
    "## 1.4 Remove the verified and bot accounts\n",
    "\n",
    "Firstly, we remove the verified accounts."
   ]
  },
  {
   "cell_type": "code",
   "execution_count": 20,
   "metadata": {},
   "outputs": [],
   "source": [
    "HK_tweets_without_verified = HK_tweets_gdf.loc[HK_tweets_gdf['verified'] == False]"
   ]
  },
  {
   "cell_type": "code",
   "execution_count": 21,
   "metadata": {},
   "outputs": [
    {
     "name": "stdout",
     "output_type": "stream",
     "text": [
      "# of Users: 391; # of Tweets: 1366\n"
     ]
    }
   ],
   "source": [
    "DataPrepare.data_overview(HK_tweets_without_verified)"
   ]
  },
  {
   "cell_type": "markdown",
   "metadata": {},
   "source": [
    "Next, we remove the bot accounts"
   ]
  },
  {
   "cell_type": "code",
   "execution_count": 22,
   "metadata": {},
   "outputs": [],
   "source": [
    "def count_user_tweet(dataframe: pd.DataFrame):\n",
    "    \"\"\"\n",
    "    Count the users and the number of tweets they post.\n",
    "    Bot accounts are likely to post many tweets in a long time\n",
    "    :param dataframe: a tweet dataframe\n",
    "    :return: a pandas dataframe saving the number of tweets posted by each user\n",
    "    \"\"\"\n",
    "    user_set = set(dataframe['user_id_str'])\n",
    "    user_list, tweet_count_list, tweet_pos_percent_list = [], [], []\n",
    "    for user in user_set:\n",
    "        data_select = dataframe.loc[dataframe['user_id_str'] == user].copy()\n",
    "        if data_select.shape[0] > 0:\n",
    "            user_list.append(user)\n",
    "            data_select['pos'] = data_select.apply(lambda row: (row.lat, row.lon), axis=1)\n",
    "            _, most_common_count = Counter(data_select['pos']).most_common()[0]\n",
    "            tweet_count_list.append(data_select.shape[0])\n",
    "            tweet_pos_percent_list.append(most_common_count / len(set(data_select['id_str'])))\n",
    "    count_data = pd.DataFrame()\n",
    "    count_data['user_id'] = user_list\n",
    "    count_data['count'] = tweet_count_list\n",
    "    count_data['loc_percent'] = tweet_pos_percent_list\n",
    "    count_data_final = count_data.sort_values(by='count', ascending=False).reset_index(drop=True)\n",
    "    return count_data_final\n",
    "\n",
    "def get_bot_users(count_dataframe: pd.DataFrame, save_path: str, save_filename: str):\n",
    "    \"\"\"\n",
    "    Get the user ids that are bot accounts. Some works for reference:\n",
    "    https://www.mdpi.com/2078-2489/9/5/102/htm\n",
    "    https://www.sciencedirect.com/science/article/pii/S0001457517302269\n",
    "    :param count_dataframe: the pandas dataframe counting the tweet count and loc percent\n",
    "    :param save_path: the path to the save the bot user ids\n",
    "    :param save_filename: the name of the saved file\n",
    "    :return: None. The bot ids are saved to the local directory\n",
    "    \"\"\"\n",
    "    assert 'count' in count_dataframe, 'The count dataframe should have a column named count'\n",
    "    assert 'loc_percent' in count_dataframe, 'The count dataframe should have a column named loc_percent'\n",
    "    assert save_filename.endswith('.npy'), 'The saved filename should end with .npy'\n",
    "\n",
    "    tweet_count_mean = np.mean(count_dataframe['count'])\n",
    "    tweet_count_std = np.std(count_dataframe['count'])\n",
    "    threshold = tweet_count_mean + 2 * tweet_count_std\n",
    "    decision = (count_dataframe['count'] > threshold) & (count_dataframe['loc_percent'] > 0.6)\n",
    "    bot_count_dataframe = count_dataframe[decision]\n",
    "    bot_ids = np.array(list(set(bot_count_dataframe['user_id'])))\n",
    "    print('We have got {} bots'.format(len(bot_ids)))\n",
    "    print('They posted {} tweets'.format(sum(bot_count_dataframe['count'])))\n",
    "    np.save(os.path.join(save_path, save_filename), bot_ids)"
   ]
  },
  {
   "cell_type": "code",
   "execution_count": 23,
   "metadata": {},
   "outputs": [
    {
     "name": "stdout",
     "output_type": "stream",
     "text": [
      "We have got 3 bots\n",
      "They posted 71 tweets\n"
     ]
    }
   ],
   "source": [
    "get_bot_users(count_user_tweet(HK_tweets_without_verified), save_path=os.getcwd(), save_filename='hk_bots.npy')"
   ]
  },
  {
   "cell_type": "markdown",
   "metadata": {},
   "source": [
    "Load the bot accounts..."
   ]
  },
  {
   "cell_type": "code",
   "execution_count": 24,
   "metadata": {},
   "outputs": [
    {
     "data": {
      "text/plain": [
       "array([          456413834,            17430060, 1229060688603013127],\n",
       "      dtype=int64)"
      ]
     },
     "execution_count": 24,
     "metadata": {},
     "output_type": "execute_result"
    }
   ],
   "source": [
    "bot_accounts = np.load('hk_bots.npy')\n",
    "bot_accounts"
   ]
  },
  {
   "cell_type": "code",
   "execution_count": null,
   "metadata": {},
   "outputs": [],
   "source": []
  }
 ],
 "metadata": {
  "kernelspec": {
   "display_name": "Python 3",
   "language": "python",
   "name": "python3"
  },
  "language_info": {
   "codemirror_mode": {
    "name": "ipython",
    "version": 3
   },
   "file_extension": ".py",
   "mimetype": "text/x-python",
   "name": "python",
   "nbconvert_exporter": "python",
   "pygments_lexer": "ipython3",
   "version": "3.7.8"
  }
 },
 "nbformat": 4,
 "nbformat_minor": 4
}
