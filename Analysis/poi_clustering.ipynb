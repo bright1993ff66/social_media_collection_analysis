{
 "cells": [
  {
   "cell_type": "markdown",
   "metadata": {},
   "source": [
    "# 0. Load the packages"
   ]
  },
  {
   "cell_type": "code",
   "execution_count": 44,
   "metadata": {},
   "outputs": [],
   "source": [
    "# basics\n",
    "import os\n",
    "import numpy as np\n",
    "import pandas as pd\n",
    "from collections import Counter\n",
    "\n",
    "# for data standardization\n",
    "from sklearn.preprocessing import StandardScaler\n",
    "\n",
    "# for PCA decomposition\n",
    "from sklearn.decomposition import PCA\n",
    "\n",
    "# for clustering\n",
    "from sklearn.cluster import DBSCAN\n",
    "from sklearn.cluster import AgglomerativeClustering\n",
    "from sklearn.cluster import KMeans\n",
    "import scipy.cluster.hierarchy as sch\n",
    "from scipy.cluster.hierarchy import dendrogram\n",
    "\n",
    "# for spatial analysis\n",
    "import geopandas as gpd\n",
    "\n",
    "# for visualization\n",
    "import matplotlib as mpl\n",
    "from matplotlib import pyplot as plt"
   ]
  },
  {
   "cell_type": "code",
   "execution_count": 2,
   "metadata": {},
   "outputs": [],
   "source": [
    "# Specify the path\n",
    "project_path = r'D:\\Projects\\count_tweet\\poi_clustering'\n",
    "data_path = os.path.join(project_path, 'data')\n",
    "figure_path = os.path.join(project_path, 'figures')"
   ]
  },
  {
   "cell_type": "code",
   "execution_count": 3,
   "metadata": {},
   "outputs": [],
   "source": [
    "# Function to setup the axis\n",
    "def setup_axis(ax) -> None:\n",
    "    \"\"\"\n",
    "    Set up the axis in the subplots of matplotlib, including:\n",
    "        - spines\n",
    "        - xtick and ytick sizes\n",
    "    :param ax: a subplot axis\n",
    "    :return: None. The axis is reformatted\n",
    "    \"\"\"\n",
    "    # set the figure's right and top spines to invisible\n",
    "    ax.spines['right'].set_visible(False)\n",
    "    ax.spines['top'].set_visible(False)\n",
    "    \n",
    "# Set the font type\n",
    "font = {'family': 'serif'}\n",
    "mpl.rc('font', **font)"
   ]
  },
  {
   "cell_type": "markdown",
   "metadata": {},
   "source": [
    "# 1. Load the data"
   ]
  },
  {
   "cell_type": "markdown",
   "metadata": {},
   "source": [
    "### Load the POI data"
   ]
  },
  {
   "cell_type": "code",
   "execution_count": 4,
   "metadata": {},
   "outputs": [],
   "source": [
    "poi_data = pd.read_csv(os.path.join(data_path, 'RESULTS_POI.csv'), encoding='utf-8')\n",
    "poi_shapefile = gpd.read_file(os.path.join(data_path, 'RESULTS_POI.shp'), encoding='utf-8')"
   ]
  },
  {
   "cell_type": "code",
   "execution_count": 5,
   "metadata": {},
   "outputs": [],
   "source": [
    "poi_shapefile_4326 = poi_shapefile.to_crs(epsg=4326)"
   ]
  },
  {
   "cell_type": "code",
   "execution_count": 6,
   "metadata": {},
   "outputs": [
    {
     "data": {
      "text/plain": [
       "Index(['ID_UNIQ', 'TW_ACTIVIT', '3D', '2D', '2C', '2A', '2E', '2F', '3E', '4B',\n",
       "       '2B', '3C', '3B', '4A', '1C', '4C', '3A', '1A', '1B', 'PCA1', 'PCA2a',\n",
       "       'PCA2b', 'SENTIMENT', 'sentiment_'],\n",
       "      dtype='object')"
      ]
     },
     "execution_count": 6,
     "metadata": {},
     "output_type": "execute_result"
    }
   ],
   "source": [
    "poi_data.columns"
   ]
  },
  {
   "cell_type": "code",
   "execution_count": 7,
   "metadata": {},
   "outputs": [],
   "source": [
    "select_columns = ['TW_ACTIVIT', '3D', '2D', '2C', '2A', '2E', '2F', '3E', '4B',\n",
    "       '2B', '3C', '3B', '4A', '1C', '4C', '3A', '1A', '1B', 'SENTIMENT']"
   ]
  },
  {
   "cell_type": "code",
   "execution_count": 8,
   "metadata": {},
   "outputs": [],
   "source": [
    "poi_select = poi_data[select_columns].copy()"
   ]
  },
  {
   "cell_type": "code",
   "execution_count": 9,
   "metadata": {},
   "outputs": [],
   "source": [
    "poi_select['id'] = list(range(poi_select.shape[0]))"
   ]
  },
  {
   "cell_type": "code",
   "execution_count": 10,
   "metadata": {},
   "outputs": [
    {
     "data": {
      "text/html": [
       "<div>\n",
       "<style scoped>\n",
       "    .dataframe tbody tr th:only-of-type {\n",
       "        vertical-align: middle;\n",
       "    }\n",
       "\n",
       "    .dataframe tbody tr th {\n",
       "        vertical-align: top;\n",
       "    }\n",
       "\n",
       "    .dataframe thead th {\n",
       "        text-align: right;\n",
       "    }\n",
       "</style>\n",
       "<table border=\"1\" class=\"dataframe\">\n",
       "  <thead>\n",
       "    <tr style=\"text-align: right;\">\n",
       "      <th></th>\n",
       "      <th>TW_ACTIVIT</th>\n",
       "      <th>3D</th>\n",
       "      <th>2D</th>\n",
       "      <th>2C</th>\n",
       "      <th>2A</th>\n",
       "      <th>2E</th>\n",
       "      <th>2F</th>\n",
       "      <th>3E</th>\n",
       "      <th>4B</th>\n",
       "      <th>2B</th>\n",
       "      <th>3C</th>\n",
       "      <th>3B</th>\n",
       "      <th>4A</th>\n",
       "      <th>1C</th>\n",
       "      <th>4C</th>\n",
       "      <th>3A</th>\n",
       "      <th>1A</th>\n",
       "      <th>1B</th>\n",
       "      <th>SENTIMENT</th>\n",
       "      <th>id</th>\n",
       "    </tr>\n",
       "  </thead>\n",
       "  <tbody>\n",
       "    <tr>\n",
       "      <th>0</th>\n",
       "      <td>217.0</td>\n",
       "      <td>2.438</td>\n",
       "      <td>102</td>\n",
       "      <td>80</td>\n",
       "      <td>0.06256</td>\n",
       "      <td>0.15166</td>\n",
       "      <td>0.85687</td>\n",
       "      <td>5.11279</td>\n",
       "      <td>0.4777</td>\n",
       "      <td>0.0398</td>\n",
       "      <td>1.1052</td>\n",
       "      <td>0.2617</td>\n",
       "      <td>2.4211</td>\n",
       "      <td>4.3507</td>\n",
       "      <td>0.460</td>\n",
       "      <td>29.88499</td>\n",
       "      <td>0.584515</td>\n",
       "      <td>0.45388</td>\n",
       "      <td>1.562212</td>\n",
       "      <td>0</td>\n",
       "    </tr>\n",
       "    <tr>\n",
       "      <th>1</th>\n",
       "      <td>40.0</td>\n",
       "      <td>11.490</td>\n",
       "      <td>665</td>\n",
       "      <td>732</td>\n",
       "      <td>0.91132</td>\n",
       "      <td>1.67609</td>\n",
       "      <td>5.50912</td>\n",
       "      <td>22.18760</td>\n",
       "      <td>1.2365</td>\n",
       "      <td>0.0092</td>\n",
       "      <td>0.4602</td>\n",
       "      <td>0.0562</td>\n",
       "      <td>0.6120</td>\n",
       "      <td>4.1807</td>\n",
       "      <td>0.443</td>\n",
       "      <td>58.66411</td>\n",
       "      <td>0.429222</td>\n",
       "      <td>0.55778</td>\n",
       "      <td>1.650000</td>\n",
       "      <td>1</td>\n",
       "    </tr>\n",
       "    <tr>\n",
       "      <th>2</th>\n",
       "      <td>31.0</td>\n",
       "      <td>3.591</td>\n",
       "      <td>217</td>\n",
       "      <td>193</td>\n",
       "      <td>0.16793</td>\n",
       "      <td>0.34479</td>\n",
       "      <td>1.28271</td>\n",
       "      <td>8.57878</td>\n",
       "      <td>1.2577</td>\n",
       "      <td>0.0143</td>\n",
       "      <td>0.0840</td>\n",
       "      <td>0.4016</td>\n",
       "      <td>0.8700</td>\n",
       "      <td>3.4506</td>\n",
       "      <td>0.461</td>\n",
       "      <td>83.38249</td>\n",
       "      <td>0.639931</td>\n",
       "      <td>0.59269</td>\n",
       "      <td>1.580645</td>\n",
       "      <td>2</td>\n",
       "    </tr>\n",
       "    <tr>\n",
       "      <th>3</th>\n",
       "      <td>1771.0</td>\n",
       "      <td>8.145</td>\n",
       "      <td>1320</td>\n",
       "      <td>1186</td>\n",
       "      <td>1.14932</td>\n",
       "      <td>1.90910</td>\n",
       "      <td>2.65439</td>\n",
       "      <td>20.14532</td>\n",
       "      <td>1.2781</td>\n",
       "      <td>0.2205</td>\n",
       "      <td>2.5739</td>\n",
       "      <td>1.1107</td>\n",
       "      <td>0.2806</td>\n",
       "      <td>4.2920</td>\n",
       "      <td>0.419</td>\n",
       "      <td>200.61235</td>\n",
       "      <td>0.443443</td>\n",
       "      <td>0.88744</td>\n",
       "      <td>1.427442</td>\n",
       "      <td>3</td>\n",
       "    </tr>\n",
       "    <tr>\n",
       "      <th>4</th>\n",
       "      <td>1.0</td>\n",
       "      <td>2.357</td>\n",
       "      <td>61</td>\n",
       "      <td>53</td>\n",
       "      <td>0.15681</td>\n",
       "      <td>0.27704</td>\n",
       "      <td>0.59066</td>\n",
       "      <td>11.03446</td>\n",
       "      <td>1.1604</td>\n",
       "      <td>0.0052</td>\n",
       "      <td>0.2509</td>\n",
       "      <td>0.0000</td>\n",
       "      <td>4.0083</td>\n",
       "      <td>4.1248</td>\n",
       "      <td>0.416</td>\n",
       "      <td>2.95813</td>\n",
       "      <td>0.595146</td>\n",
       "      <td>0.65275</td>\n",
       "      <td>1.000000</td>\n",
       "      <td>4</td>\n",
       "    </tr>\n",
       "    <tr>\n",
       "      <th>...</th>\n",
       "      <td>...</td>\n",
       "      <td>...</td>\n",
       "      <td>...</td>\n",
       "      <td>...</td>\n",
       "      <td>...</td>\n",
       "      <td>...</td>\n",
       "      <td>...</td>\n",
       "      <td>...</td>\n",
       "      <td>...</td>\n",
       "      <td>...</td>\n",
       "      <td>...</td>\n",
       "      <td>...</td>\n",
       "      <td>...</td>\n",
       "      <td>...</td>\n",
       "      <td>...</td>\n",
       "      <td>...</td>\n",
       "      <td>...</td>\n",
       "      <td>...</td>\n",
       "      <td>...</td>\n",
       "      <td>...</td>\n",
       "    </tr>\n",
       "    <tr>\n",
       "      <th>812</th>\n",
       "      <td>5.0</td>\n",
       "      <td>4.920</td>\n",
       "      <td>129</td>\n",
       "      <td>158</td>\n",
       "      <td>0.22209</td>\n",
       "      <td>0.45571</td>\n",
       "      <td>0.83931</td>\n",
       "      <td>4.27730</td>\n",
       "      <td>1.0960</td>\n",
       "      <td>0.0000</td>\n",
       "      <td>0.0000</td>\n",
       "      <td>0.0000</td>\n",
       "      <td>0.1634</td>\n",
       "      <td>2.3560</td>\n",
       "      <td>0.447</td>\n",
       "      <td>132.60549</td>\n",
       "      <td>0.343469</td>\n",
       "      <td>0.40165</td>\n",
       "      <td>1.400000</td>\n",
       "      <td>812</td>\n",
       "    </tr>\n",
       "    <tr>\n",
       "      <th>813</th>\n",
       "      <td>14.0</td>\n",
       "      <td>0.000</td>\n",
       "      <td>29</td>\n",
       "      <td>22</td>\n",
       "      <td>0.09215</td>\n",
       "      <td>0.10670</td>\n",
       "      <td>0.07760</td>\n",
       "      <td>0.26675</td>\n",
       "      <td>1.1349</td>\n",
       "      <td>0.0000</td>\n",
       "      <td>0.0000</td>\n",
       "      <td>0.0000</td>\n",
       "      <td>291.9466</td>\n",
       "      <td>2.0000</td>\n",
       "      <td>0.443</td>\n",
       "      <td>0.90453</td>\n",
       "      <td>0.184808</td>\n",
       "      <td>0.01181</td>\n",
       "      <td>1.428571</td>\n",
       "      <td>813</td>\n",
       "    </tr>\n",
       "    <tr>\n",
       "      <th>814</th>\n",
       "      <td>8.0</td>\n",
       "      <td>1.303</td>\n",
       "      <td>57</td>\n",
       "      <td>54</td>\n",
       "      <td>0.15483</td>\n",
       "      <td>0.18176</td>\n",
       "      <td>0.15483</td>\n",
       "      <td>0.99293</td>\n",
       "      <td>0.6328</td>\n",
       "      <td>0.0000</td>\n",
       "      <td>0.0000</td>\n",
       "      <td>0.0000</td>\n",
       "      <td>200.1365</td>\n",
       "      <td>4.0844</td>\n",
       "      <td>0.416</td>\n",
       "      <td>6.05734</td>\n",
       "      <td>0.181315</td>\n",
       "      <td>0.38068</td>\n",
       "      <td>1.750000</td>\n",
       "      <td>814</td>\n",
       "    </tr>\n",
       "    <tr>\n",
       "      <th>815</th>\n",
       "      <td>106.0</td>\n",
       "      <td>11.583</td>\n",
       "      <td>965</td>\n",
       "      <td>1044</td>\n",
       "      <td>0.81645</td>\n",
       "      <td>1.53030</td>\n",
       "      <td>4.50735</td>\n",
       "      <td>19.10970</td>\n",
       "      <td>1.2606</td>\n",
       "      <td>0.0088</td>\n",
       "      <td>0.3064</td>\n",
       "      <td>0.1123</td>\n",
       "      <td>0.4009</td>\n",
       "      <td>4.2138</td>\n",
       "      <td>0.444</td>\n",
       "      <td>91.93310</td>\n",
       "      <td>0.364122</td>\n",
       "      <td>0.52901</td>\n",
       "      <td>1.566038</td>\n",
       "      <td>815</td>\n",
       "    </tr>\n",
       "    <tr>\n",
       "      <th>816</th>\n",
       "      <td>3.0</td>\n",
       "      <td>0.759</td>\n",
       "      <td>29</td>\n",
       "      <td>22</td>\n",
       "      <td>0.06508</td>\n",
       "      <td>0.07954</td>\n",
       "      <td>0.19885</td>\n",
       "      <td>1.37749</td>\n",
       "      <td>0.6219</td>\n",
       "      <td>0.0000</td>\n",
       "      <td>0.0000</td>\n",
       "      <td>0.0000</td>\n",
       "      <td>11.8839</td>\n",
       "      <td>2.2379</td>\n",
       "      <td>0.449</td>\n",
       "      <td>21.90529</td>\n",
       "      <td>0.510198</td>\n",
       "      <td>0.68446</td>\n",
       "      <td>2.000000</td>\n",
       "      <td>816</td>\n",
       "    </tr>\n",
       "  </tbody>\n",
       "</table>\n",
       "<p>817 rows × 20 columns</p>\n",
       "</div>"
      ],
      "text/plain": [
       "     TW_ACTIVIT      3D    2D    2C       2A       2E       2F        3E  \\\n",
       "0         217.0   2.438   102    80  0.06256  0.15166  0.85687   5.11279   \n",
       "1          40.0  11.490   665   732  0.91132  1.67609  5.50912  22.18760   \n",
       "2          31.0   3.591   217   193  0.16793  0.34479  1.28271   8.57878   \n",
       "3        1771.0   8.145  1320  1186  1.14932  1.90910  2.65439  20.14532   \n",
       "4           1.0   2.357    61    53  0.15681  0.27704  0.59066  11.03446   \n",
       "..          ...     ...   ...   ...      ...      ...      ...       ...   \n",
       "812         5.0   4.920   129   158  0.22209  0.45571  0.83931   4.27730   \n",
       "813        14.0   0.000    29    22  0.09215  0.10670  0.07760   0.26675   \n",
       "814         8.0   1.303    57    54  0.15483  0.18176  0.15483   0.99293   \n",
       "815       106.0  11.583   965  1044  0.81645  1.53030  4.50735  19.10970   \n",
       "816         3.0   0.759    29    22  0.06508  0.07954  0.19885   1.37749   \n",
       "\n",
       "         4B      2B      3C      3B        4A      1C     4C         3A  \\\n",
       "0    0.4777  0.0398  1.1052  0.2617    2.4211  4.3507  0.460   29.88499   \n",
       "1    1.2365  0.0092  0.4602  0.0562    0.6120  4.1807  0.443   58.66411   \n",
       "2    1.2577  0.0143  0.0840  0.4016    0.8700  3.4506  0.461   83.38249   \n",
       "3    1.2781  0.2205  2.5739  1.1107    0.2806  4.2920  0.419  200.61235   \n",
       "4    1.1604  0.0052  0.2509  0.0000    4.0083  4.1248  0.416    2.95813   \n",
       "..      ...     ...     ...     ...       ...     ...    ...        ...   \n",
       "812  1.0960  0.0000  0.0000  0.0000    0.1634  2.3560  0.447  132.60549   \n",
       "813  1.1349  0.0000  0.0000  0.0000  291.9466  2.0000  0.443    0.90453   \n",
       "814  0.6328  0.0000  0.0000  0.0000  200.1365  4.0844  0.416    6.05734   \n",
       "815  1.2606  0.0088  0.3064  0.1123    0.4009  4.2138  0.444   91.93310   \n",
       "816  0.6219  0.0000  0.0000  0.0000   11.8839  2.2379  0.449   21.90529   \n",
       "\n",
       "           1A       1B  SENTIMENT   id  \n",
       "0    0.584515  0.45388   1.562212    0  \n",
       "1    0.429222  0.55778   1.650000    1  \n",
       "2    0.639931  0.59269   1.580645    2  \n",
       "3    0.443443  0.88744   1.427442    3  \n",
       "4    0.595146  0.65275   1.000000    4  \n",
       "..        ...      ...        ...  ...  \n",
       "812  0.343469  0.40165   1.400000  812  \n",
       "813  0.184808  0.01181   1.428571  813  \n",
       "814  0.181315  0.38068   1.750000  814  \n",
       "815  0.364122  0.52901   1.566038  815  \n",
       "816  0.510198  0.68446   2.000000  816  \n",
       "\n",
       "[817 rows x 20 columns]"
      ]
     },
     "execution_count": 10,
     "metadata": {},
     "output_type": "execute_result"
    }
   ],
   "source": [
    "poi_select"
   ]
  },
  {
   "cell_type": "code",
   "execution_count": 11,
   "metadata": {},
   "outputs": [
    {
     "data": {
      "text/html": [
       "<div>\n",
       "<style scoped>\n",
       "    .dataframe tbody tr th:only-of-type {\n",
       "        vertical-align: middle;\n",
       "    }\n",
       "\n",
       "    .dataframe tbody tr th {\n",
       "        vertical-align: top;\n",
       "    }\n",
       "\n",
       "    .dataframe thead th {\n",
       "        text-align: right;\n",
       "    }\n",
       "</style>\n",
       "<table border=\"1\" class=\"dataframe\">\n",
       "  <thead>\n",
       "    <tr style=\"text-align: right;\">\n",
       "      <th></th>\n",
       "      <th>ID_UNIQ</th>\n",
       "      <th>TW_ACTIVIT</th>\n",
       "      <th>3D</th>\n",
       "      <th>2D</th>\n",
       "      <th>2C</th>\n",
       "      <th>2A</th>\n",
       "      <th>2E</th>\n",
       "      <th>2F</th>\n",
       "      <th>3E</th>\n",
       "      <th>4B</th>\n",
       "      <th>...</th>\n",
       "      <th>1C</th>\n",
       "      <th>4C</th>\n",
       "      <th>3A</th>\n",
       "      <th>1A</th>\n",
       "      <th>1B</th>\n",
       "      <th>PCA1</th>\n",
       "      <th>PCA2a</th>\n",
       "      <th>PCA2b</th>\n",
       "      <th>SENTIMENT</th>\n",
       "      <th>sentiment_</th>\n",
       "    </tr>\n",
       "  </thead>\n",
       "  <tbody>\n",
       "    <tr>\n",
       "      <th>0</th>\n",
       "      <td>0</td>\n",
       "      <td>217.0</td>\n",
       "      <td>2.438</td>\n",
       "      <td>102</td>\n",
       "      <td>80</td>\n",
       "      <td>0.06256</td>\n",
       "      <td>0.15166</td>\n",
       "      <td>0.85687</td>\n",
       "      <td>5.11279</td>\n",
       "      <td>0.4777</td>\n",
       "      <td>...</td>\n",
       "      <td>4.3507</td>\n",
       "      <td>0.460</td>\n",
       "      <td>29.88499</td>\n",
       "      <td>0.584515</td>\n",
       "      <td>0.45388</td>\n",
       "      <td>2.585340</td>\n",
       "      <td>2.585340</td>\n",
       "      <td>-0.299136</td>\n",
       "      <td>1.562212</td>\n",
       "      <td>1.562212</td>\n",
       "    </tr>\n",
       "    <tr>\n",
       "      <th>1</th>\n",
       "      <td>1</td>\n",
       "      <td>40.0</td>\n",
       "      <td>11.490</td>\n",
       "      <td>665</td>\n",
       "      <td>732</td>\n",
       "      <td>0.91132</td>\n",
       "      <td>1.67609</td>\n",
       "      <td>5.50912</td>\n",
       "      <td>22.18760</td>\n",
       "      <td>1.2365</td>\n",
       "      <td>...</td>\n",
       "      <td>4.1807</td>\n",
       "      <td>0.443</td>\n",
       "      <td>58.66411</td>\n",
       "      <td>0.429222</td>\n",
       "      <td>0.55778</td>\n",
       "      <td>-2.832431</td>\n",
       "      <td>-2.832431</td>\n",
       "      <td>-1.222037</td>\n",
       "      <td>1.650000</td>\n",
       "      <td>1.650000</td>\n",
       "    </tr>\n",
       "    <tr>\n",
       "      <th>2</th>\n",
       "      <td>2</td>\n",
       "      <td>31.0</td>\n",
       "      <td>3.591</td>\n",
       "      <td>217</td>\n",
       "      <td>193</td>\n",
       "      <td>0.16793</td>\n",
       "      <td>0.34479</td>\n",
       "      <td>1.28271</td>\n",
       "      <td>8.57878</td>\n",
       "      <td>1.2577</td>\n",
       "      <td>...</td>\n",
       "      <td>3.4506</td>\n",
       "      <td>0.461</td>\n",
       "      <td>83.38249</td>\n",
       "      <td>0.639931</td>\n",
       "      <td>0.59269</td>\n",
       "      <td>1.239093</td>\n",
       "      <td>1.239093</td>\n",
       "      <td>-0.638925</td>\n",
       "      <td>1.580645</td>\n",
       "      <td>1.580645</td>\n",
       "    </tr>\n",
       "    <tr>\n",
       "      <th>3</th>\n",
       "      <td>3</td>\n",
       "      <td>1771.0</td>\n",
       "      <td>8.145</td>\n",
       "      <td>1320</td>\n",
       "      <td>1186</td>\n",
       "      <td>1.14932</td>\n",
       "      <td>1.90910</td>\n",
       "      <td>2.65439</td>\n",
       "      <td>20.14532</td>\n",
       "      <td>1.2781</td>\n",
       "      <td>...</td>\n",
       "      <td>4.2920</td>\n",
       "      <td>0.419</td>\n",
       "      <td>200.61235</td>\n",
       "      <td>0.443443</td>\n",
       "      <td>0.88744</td>\n",
       "      <td>-4.821418</td>\n",
       "      <td>-4.821418</td>\n",
       "      <td>0.687961</td>\n",
       "      <td>1.427442</td>\n",
       "      <td>1.427442</td>\n",
       "    </tr>\n",
       "    <tr>\n",
       "      <th>4</th>\n",
       "      <td>4</td>\n",
       "      <td>1.0</td>\n",
       "      <td>2.357</td>\n",
       "      <td>61</td>\n",
       "      <td>53</td>\n",
       "      <td>0.15681</td>\n",
       "      <td>0.27704</td>\n",
       "      <td>0.59066</td>\n",
       "      <td>11.03446</td>\n",
       "      <td>1.1604</td>\n",
       "      <td>...</td>\n",
       "      <td>4.1248</td>\n",
       "      <td>0.416</td>\n",
       "      <td>2.95813</td>\n",
       "      <td>0.595146</td>\n",
       "      <td>0.65275</td>\n",
       "      <td>1.991075</td>\n",
       "      <td>1.991075</td>\n",
       "      <td>-1.366796</td>\n",
       "      <td>1.000000</td>\n",
       "      <td>1.000000</td>\n",
       "    </tr>\n",
       "  </tbody>\n",
       "</table>\n",
       "<p>5 rows × 24 columns</p>\n",
       "</div>"
      ],
      "text/plain": [
       "   ID_UNIQ  TW_ACTIVIT      3D    2D    2C       2A       2E       2F  \\\n",
       "0        0       217.0   2.438   102    80  0.06256  0.15166  0.85687   \n",
       "1        1        40.0  11.490   665   732  0.91132  1.67609  5.50912   \n",
       "2        2        31.0   3.591   217   193  0.16793  0.34479  1.28271   \n",
       "3        3      1771.0   8.145  1320  1186  1.14932  1.90910  2.65439   \n",
       "4        4         1.0   2.357    61    53  0.15681  0.27704  0.59066   \n",
       "\n",
       "         3E      4B  ...      1C     4C         3A        1A       1B  \\\n",
       "0   5.11279  0.4777  ...  4.3507  0.460   29.88499  0.584515  0.45388   \n",
       "1  22.18760  1.2365  ...  4.1807  0.443   58.66411  0.429222  0.55778   \n",
       "2   8.57878  1.2577  ...  3.4506  0.461   83.38249  0.639931  0.59269   \n",
       "3  20.14532  1.2781  ...  4.2920  0.419  200.61235  0.443443  0.88744   \n",
       "4  11.03446  1.1604  ...  4.1248  0.416    2.95813  0.595146  0.65275   \n",
       "\n",
       "       PCA1     PCA2a     PCA2b  SENTIMENT  sentiment_  \n",
       "0  2.585340  2.585340 -0.299136   1.562212    1.562212  \n",
       "1 -2.832431 -2.832431 -1.222037   1.650000    1.650000  \n",
       "2  1.239093  1.239093 -0.638925   1.580645    1.580645  \n",
       "3 -4.821418 -4.821418  0.687961   1.427442    1.427442  \n",
       "4  1.991075  1.991075 -1.366796   1.000000    1.000000  \n",
       "\n",
       "[5 rows x 24 columns]"
      ]
     },
     "execution_count": 11,
     "metadata": {},
     "output_type": "execute_result"
    }
   ],
   "source": [
    "poi_data.head()"
   ]
  },
  {
   "cell_type": "markdown",
   "metadata": {},
   "source": [
    "### Load the city border"
   ]
  },
  {
   "cell_type": "code",
   "execution_count": 12,
   "metadata": {},
   "outputs": [],
   "source": [
    "tricity_border = gpd.read_file(os.path.join(data_path, 'tricity_border.shp'), encoding='utf-8')"
   ]
  },
  {
   "cell_type": "code",
   "execution_count": 13,
   "metadata": {},
   "outputs": [
    {
     "data": {
      "image/png": "[encoded data removed]",
      "text/plain": [
       "<Figure size 720x1224 with 1 Axes>"
      ]
     },
     "metadata": {
      "needs_background": "light"
     },
     "output_type": "display_data"
    }
   ],
   "source": [
    "tricity_figure, tricity_axis = plt.subplots(1, 1, figsize=(10, 17))\n",
    "tricity_border.plot(ax = tricity_axis, color='white', edgecolor='black', zorder=1)\n",
    "tricity_axis.set_xlabel('Latitude', size=18)\n",
    "tricity_axis.set_ylabel('Longitude', size=18)\n",
    "tricity_axis.tick_params(axis=\"x\", labelsize=12)\n",
    "tricity_axis.tick_params(axis=\"y\", labelsize=12)"
   ]
  },
  {
   "cell_type": "markdown",
   "metadata": {},
   "source": [
    "# 2. Use PCA to select the number of factors\n",
    "\n",
    "reference papers: \n",
    "\n",
    "1. [The varimax criterion for analytic rotation in factor analysis](https://link.springer.com/article/10.1007/BF02289233)\n",
    "2. [Big location-based social media messages from China's Sina Weibo network: Collection, storage, visualization, and potential ways of analysis](https://onlinelibrary.wiley.com/doi/abs/10.1111/tgis.12266)\n",
    "3. [Understanding the impact of built environment on metro ridership using open source in Shanghai](https://www.sciencedirect.com/science/article/abs/pii/S0264275118307261)"
   ]
  },
  {
   "cell_type": "code",
   "execution_count": 14,
   "metadata": {},
   "outputs": [],
   "source": [
    "data_to_cluster = poi_select[select_columns].to_numpy()"
   ]
  },
  {
   "cell_type": "code",
   "execution_count": 15,
   "metadata": {},
   "outputs": [
    {
     "data": {
      "text/plain": [
       "array([[2.170000e+02, 2.438000e+00, 1.020000e+02, ..., 5.845150e-01,\n",
       "        4.538800e-01, 1.562212e+00],\n",
       "       [4.000000e+01, 1.149000e+01, 6.650000e+02, ..., 4.292220e-01,\n",
       "        5.577800e-01, 1.650000e+00],\n",
       "       [3.100000e+01, 3.591000e+00, 2.170000e+02, ..., 6.399310e-01,\n",
       "        5.926900e-01, 1.580645e+00],\n",
       "       ...,\n",
       "       [8.000000e+00, 1.303000e+00, 5.700000e+01, ..., 1.813150e-01,\n",
       "        3.806800e-01, 1.750000e+00],\n",
       "       [1.060000e+02, 1.158300e+01, 9.650000e+02, ..., 3.641220e-01,\n",
       "        5.290100e-01, 1.566038e+00],\n",
       "       [3.000000e+00, 7.590000e-01, 2.900000e+01, ..., 5.101980e-01,\n",
       "        6.844600e-01, 2.000000e+00]])"
      ]
     },
     "execution_count": 15,
     "metadata": {},
     "output_type": "execute_result"
    }
   ],
   "source": [
    "data_to_cluster"
   ]
  },
  {
   "cell_type": "markdown",
   "metadata": {},
   "source": [
    "### First, we need to standardize the data"
   ]
  },
  {
   "cell_type": "code",
   "execution_count": 16,
   "metadata": {},
   "outputs": [],
   "source": [
    "scaler = StandardScaler()"
   ]
  },
  {
   "cell_type": "code",
   "execution_count": 17,
   "metadata": {},
   "outputs": [
    {
     "data": {
      "text/plain": [
       "StandardScaler()"
      ]
     },
     "execution_count": 17,
     "metadata": {},
     "output_type": "execute_result"
    }
   ],
   "source": [
    "scaler.fit(data_to_cluster)"
   ]
  },
  {
   "cell_type": "code",
   "execution_count": 18,
   "metadata": {},
   "outputs": [],
   "source": [
    "standard_data = scaler.transform(data_to_cluster)"
   ]
  },
  {
   "cell_type": "code",
   "execution_count": 19,
   "metadata": {},
   "outputs": [
    {
     "data": {
      "text/plain": [
       "(817, 19)"
      ]
     },
     "execution_count": 19,
     "metadata": {},
     "output_type": "execute_result"
    }
   ],
   "source": [
    "standard_data.shape"
   ]
  },
  {
   "cell_type": "markdown",
   "metadata": {},
   "source": [
    "### Next, use the PCA to do dimensionality reduction"
   ]
  },
  {
   "cell_type": "code",
   "execution_count": 20,
   "metadata": {},
   "outputs": [],
   "source": [
    "# If n_components=None, n_components = min(n_samples, n_features)\n",
    "pca = PCA(n_components=None, svd_solver='full')"
   ]
  },
  {
   "cell_type": "code",
   "execution_count": 21,
   "metadata": {},
   "outputs": [],
   "source": [
    "pca_result = pca.fit(standard_data)"
   ]
  },
  {
   "cell_type": "code",
   "execution_count": 22,
   "metadata": {},
   "outputs": [
    {
     "data": {
      "text/plain": [
       "array([4.95521124e-01, 1.09449233e-01, 8.18041949e-02, 5.49918157e-02,\n",
       "       4.82885892e-02, 4.19566399e-02, 3.94229962e-02, 3.17117294e-02,\n",
       "       2.22978685e-02, 2.05345265e-02, 1.72302008e-02, 1.20092772e-02,\n",
       "       8.91714435e-03, 5.66971040e-03, 4.61464655e-03, 3.55190187e-03,\n",
       "       1.76841455e-03, 2.04511766e-04, 5.54753044e-05])"
      ]
     },
     "execution_count": 22,
     "metadata": {},
     "output_type": "execute_result"
    }
   ],
   "source": [
    "pca_result.explained_variance_ratio_"
   ]
  },
  {
   "cell_type": "code",
   "execution_count": 23,
   "metadata": {},
   "outputs": [
    {
     "data": {
      "text/plain": [
       "array([87.70390185, 41.21869051, 35.63490589, 29.21708329, 27.37852753,\n",
       "       25.52044124, 24.73788937, 22.18695959, 18.60456431, 17.85377986,\n",
       "       16.35433908, 13.65357132, 11.76523828,  9.38141325,  8.46363742,\n",
       "        7.42537357,  5.23937965,  1.78175087,  0.92797799])"
      ]
     },
     "execution_count": 23,
     "metadata": {},
     "output_type": "execute_result"
    }
   ],
   "source": [
    "# Almost all the factor's singular values are greater than 1\n",
    "pca_result.singular_values_"
   ]
  },
  {
   "cell_type": "code",
   "execution_count": 24,
   "metadata": {},
   "outputs": [
    {
     "data": {
      "text/plain": [
       "19"
      ]
     },
     "execution_count": 24,
     "metadata": {},
     "output_type": "execute_result"
    }
   ],
   "source": [
    "pca_result.n_components_"
   ]
  },
  {
   "cell_type": "code",
   "execution_count": 25,
   "metadata": {},
   "outputs": [],
   "source": [
    "def plot_variance_increment(explained_variance_ratio):\n",
    "    \"\"\"\n",
    "    Plot the incremental variance based on the PCA explained variance\n",
    "    :param explained_variance_ratio: the PCA explained variance ratio\n",
    "    :return: a figure showing the incremental variance of factors\n",
    "    \"\"\"\n",
    "    # Compute the incremental explained variance\n",
    "    increment_variances = [0]\n",
    "    for index, variance in enumerate(explained_variance_ratio):\n",
    "        if index - 1>=0:\n",
    "            increment_variances.append(variance + increment_variances[index])\n",
    "        else:\n",
    "            increment_variances.append(variance)\n",
    "    xticks = list(range(len(increment_variances)))\n",
    "    yticks = np.arange(0, 1.2, 0.2)\n",
    "    \n",
    "    # Draw the line graph finding the best number of PCA components\n",
    "    figure, axis = plt.subplots(1, 1, figsize=(10, 8))\n",
    "    axis.plot(xticks, increment_variances)\n",
    "    axis.axhline(0.8, color='black', linestyle='--')\n",
    "    axis.axvline(5, color='red', linestyle='--')\n",
    "    \n",
    "    # Setup the axis\n",
    "    axis.set_xticks(xticks)\n",
    "    axis.set_yticks(yticks)\n",
    "    axis.set_yticklabels([str(int(val * 100))+'%' for val in yticks])\n",
    "    axis.tick_params(axis=\"x\", labelsize=12)\n",
    "    axis.tick_params(axis=\"y\", labelsize=12)\n",
    "    axis.set_xlabel('Considered Number of PCA Components', size=18)\n",
    "    axis.set_ylabel('Explained Variance', size=18)\n",
    "    setup_axis(axis)\n",
    "    \n",
    "    # Save the figure and draw the plot\n",
    "    figure.savefig(os.path.join(figure_path, 'variance_increment.png'))\n",
    "    plt.show()"
   ]
  },
  {
   "cell_type": "markdown",
   "metadata": {},
   "source": [
    "We plot the explained variance against the number of considered PCA components.\n",
    "\n",
    "We find that the first five principal components accounting for 80% of the data."
   ]
  },
  {
   "cell_type": "code",
   "execution_count": 26,
   "metadata": {},
   "outputs": [
    {
     "data": {
      "image/png": "[encoded data removed]",
      "text/plain": [
       "<Figure size 720x576 with 1 Axes>"
      ]
     },
     "metadata": {
      "needs_background": "light"
     },
     "output_type": "display_data"
    }
   ],
   "source": [
    "plot_variance_increment(pca_result.explained_variance_ratio_)"
   ]
  },
  {
   "cell_type": "markdown",
   "metadata": {},
   "source": [
    "### Get the principal components"
   ]
  },
  {
   "cell_type": "code",
   "execution_count": 27,
   "metadata": {},
   "outputs": [],
   "source": [
    "principalComponents = PCA(n_components=5).fit_transform(standard_data)"
   ]
  },
  {
   "cell_type": "code",
   "execution_count": 28,
   "metadata": {},
   "outputs": [],
   "source": [
    "principal_component_data = pd.DataFrame(principalComponents, \n",
    "                                        columns=['Principal_{}'.format(str(val)) for val in list(range(5))])"
   ]
  },
  {
   "cell_type": "code",
   "execution_count": 29,
   "metadata": {},
   "outputs": [
    {
     "data": {
      "text/html": [
       "<div>\n",
       "<style scoped>\n",
       "    .dataframe tbody tr th:only-of-type {\n",
       "        vertical-align: middle;\n",
       "    }\n",
       "\n",
       "    .dataframe tbody tr th {\n",
       "        vertical-align: top;\n",
       "    }\n",
       "\n",
       "    .dataframe thead th {\n",
       "        text-align: right;\n",
       "    }\n",
       "</style>\n",
       "<table border=\"1\" class=\"dataframe\">\n",
       "  <thead>\n",
       "    <tr style=\"text-align: right;\">\n",
       "      <th></th>\n",
       "      <th>Principal_0</th>\n",
       "      <th>Principal_1</th>\n",
       "      <th>Principal_2</th>\n",
       "      <th>Principal_3</th>\n",
       "      <th>Principal_4</th>\n",
       "    </tr>\n",
       "  </thead>\n",
       "  <tbody>\n",
       "    <tr>\n",
       "      <th>0</th>\n",
       "      <td>2.539868</td>\n",
       "      <td>-0.516003</td>\n",
       "      <td>-0.448185</td>\n",
       "      <td>0.696056</td>\n",
       "      <td>0.425502</td>\n",
       "    </tr>\n",
       "    <tr>\n",
       "      <th>1</th>\n",
       "      <td>-2.548978</td>\n",
       "      <td>-1.582170</td>\n",
       "      <td>1.528073</td>\n",
       "      <td>-0.196597</td>\n",
       "      <td>1.195110</td>\n",
       "    </tr>\n",
       "    <tr>\n",
       "      <th>2</th>\n",
       "      <td>1.328425</td>\n",
       "      <td>-0.943537</td>\n",
       "      <td>-0.517094</td>\n",
       "      <td>0.505293</td>\n",
       "      <td>0.903682</td>\n",
       "    </tr>\n",
       "    <tr>\n",
       "      <th>3</th>\n",
       "      <td>-5.070868</td>\n",
       "      <td>0.730654</td>\n",
       "      <td>-0.243564</td>\n",
       "      <td>0.012407</td>\n",
       "      <td>-0.393541</td>\n",
       "    </tr>\n",
       "    <tr>\n",
       "      <th>4</th>\n",
       "      <td>2.181181</td>\n",
       "      <td>-1.016311</td>\n",
       "      <td>0.255409</td>\n",
       "      <td>-0.393432</td>\n",
       "      <td>-0.471663</td>\n",
       "    </tr>\n",
       "    <tr>\n",
       "      <th>...</th>\n",
       "      <td>...</td>\n",
       "      <td>...</td>\n",
       "      <td>...</td>\n",
       "      <td>...</td>\n",
       "      <td>...</td>\n",
       "    </tr>\n",
       "    <tr>\n",
       "      <th>812</th>\n",
       "      <td>1.761130</td>\n",
       "      <td>0.449532</td>\n",
       "      <td>1.310784</td>\n",
       "      <td>0.311802</td>\n",
       "      <td>0.337041</td>\n",
       "    </tr>\n",
       "    <tr>\n",
       "      <th>813</th>\n",
       "      <td>4.339448</td>\n",
       "      <td>4.549297</td>\n",
       "      <td>7.012423</td>\n",
       "      <td>-0.792048</td>\n",
       "      <td>7.094160</td>\n",
       "    </tr>\n",
       "    <tr>\n",
       "      <th>814</th>\n",
       "      <td>3.664263</td>\n",
       "      <td>2.502303</td>\n",
       "      <td>4.825279</td>\n",
       "      <td>-1.288665</td>\n",
       "      <td>4.723949</td>\n",
       "    </tr>\n",
       "    <tr>\n",
       "      <th>815</th>\n",
       "      <td>-2.604876</td>\n",
       "      <td>-1.007138</td>\n",
       "      <td>1.738452</td>\n",
       "      <td>-0.258138</td>\n",
       "      <td>0.984731</td>\n",
       "    </tr>\n",
       "    <tr>\n",
       "      <th>816</th>\n",
       "      <td>3.302374</td>\n",
       "      <td>-0.224872</td>\n",
       "      <td>-0.401291</td>\n",
       "      <td>0.251512</td>\n",
       "      <td>1.310083</td>\n",
       "    </tr>\n",
       "  </tbody>\n",
       "</table>\n",
       "<p>817 rows × 5 columns</p>\n",
       "</div>"
      ],
      "text/plain": [
       "     Principal_0  Principal_1  Principal_2  Principal_3  Principal_4\n",
       "0       2.539868    -0.516003    -0.448185     0.696056     0.425502\n",
       "1      -2.548978    -1.582170     1.528073    -0.196597     1.195110\n",
       "2       1.328425    -0.943537    -0.517094     0.505293     0.903682\n",
       "3      -5.070868     0.730654    -0.243564     0.012407    -0.393541\n",
       "4       2.181181    -1.016311     0.255409    -0.393432    -0.471663\n",
       "..           ...          ...          ...          ...          ...\n",
       "812     1.761130     0.449532     1.310784     0.311802     0.337041\n",
       "813     4.339448     4.549297     7.012423    -0.792048     7.094160\n",
       "814     3.664263     2.502303     4.825279    -1.288665     4.723949\n",
       "815    -2.604876    -1.007138     1.738452    -0.258138     0.984731\n",
       "816     3.302374    -0.224872    -0.401291     0.251512     1.310083\n",
       "\n",
       "[817 rows x 5 columns]"
      ]
     },
     "execution_count": 29,
     "metadata": {},
     "output_type": "execute_result"
    }
   ],
   "source": [
    "principal_component_data"
   ]
  },
  {
   "cell_type": "markdown",
   "metadata": {},
   "source": [
    "### Compute the correlation between principal components and data"
   ]
  },
  {
   "cell_type": "code",
   "execution_count": 30,
   "metadata": {},
   "outputs": [],
   "source": [
    "def compute_corr_dataframes(standard_data, principal_data):\n",
    "    \"\"\"\n",
    "    Compute the correlation dataframe\n",
    "    :param standard_data: the standardized data based on features\n",
    "    :param principal_data: the principal components\n",
    "    :param select_columns: the columns for correlation computation\n",
    "    :return: a dataframe saving the correlation between data and principal component\n",
    "    \"\"\"\n",
    "    components_num = principal_data.shape[1]\n",
    "    principal_component_dataframe = pd.DataFrame(principal_data, \n",
    "                                        columns=['Principal_{}'.format(str(val)) for val in list(range(components_num))])\n",
    "    standard_dataframe = pd.DataFrame(standard_data, columns=select_columns)\n",
    "    correlations = []\n",
    "    for principal_name in principal_component_dataframe.columns:\n",
    "        principal_correlations = []\n",
    "        for data_name in standard_dataframe.columns:\n",
    "            correlation = np.corrcoef(principal_component_dataframe[principal_name], standard_dataframe[data_name])[0, 1]\n",
    "            principal_correlations.append(correlation)\n",
    "        correlations.append(principal_correlations)\n",
    "    result_array = np.array(correlations).T\n",
    "    result_dataframe = pd.DataFrame(result_array, \n",
    "                                    columns=['Principal_{}_corr'.format(str(val)) for val in list(range(components_num))], \n",
    "                                    index=select_columns)\n",
    "    return result_dataframe"
   ]
  },
  {
   "cell_type": "code",
   "execution_count": 31,
   "metadata": {},
   "outputs": [
    {
     "data": {
      "text/html": [
       "<div>\n",
       "<style scoped>\n",
       "    .dataframe tbody tr th:only-of-type {\n",
       "        vertical-align: middle;\n",
       "    }\n",
       "\n",
       "    .dataframe tbody tr th {\n",
       "        vertical-align: top;\n",
       "    }\n",
       "\n",
       "    .dataframe thead th {\n",
       "        text-align: right;\n",
       "    }\n",
       "</style>\n",
       "<table border=\"1\" class=\"dataframe\">\n",
       "  <thead>\n",
       "    <tr style=\"text-align: right;\">\n",
       "      <th></th>\n",
       "      <th>Principal_0_corr</th>\n",
       "      <th>Principal_1_corr</th>\n",
       "      <th>Principal_2_corr</th>\n",
       "      <th>Principal_3_corr</th>\n",
       "      <th>Principal_4_corr</th>\n",
       "    </tr>\n",
       "  </thead>\n",
       "  <tbody>\n",
       "    <tr>\n",
       "      <th>TW_ACTIVIT</th>\n",
       "      <td>-0.883779</td>\n",
       "      <td>0.254235</td>\n",
       "      <td>-0.045203</td>\n",
       "      <td>-0.043025</td>\n",
       "      <td>-0.020210</td>\n",
       "    </tr>\n",
       "    <tr>\n",
       "      <th>3D</th>\n",
       "      <td>-0.642438</td>\n",
       "      <td>-0.485120</td>\n",
       "      <td>0.300211</td>\n",
       "      <td>0.107265</td>\n",
       "      <td>-0.088828</td>\n",
       "    </tr>\n",
       "    <tr>\n",
       "      <th>2D</th>\n",
       "      <td>-0.974933</td>\n",
       "      <td>0.130061</td>\n",
       "      <td>0.004568</td>\n",
       "      <td>-0.055603</td>\n",
       "      <td>0.034648</td>\n",
       "    </tr>\n",
       "    <tr>\n",
       "      <th>2C</th>\n",
       "      <td>-0.975883</td>\n",
       "      <td>0.088509</td>\n",
       "      <td>0.018967</td>\n",
       "      <td>-0.064500</td>\n",
       "      <td>0.045419</td>\n",
       "    </tr>\n",
       "    <tr>\n",
       "      <th>2A</th>\n",
       "      <td>-0.972886</td>\n",
       "      <td>0.089670</td>\n",
       "      <td>0.042815</td>\n",
       "      <td>-0.054159</td>\n",
       "      <td>0.039727</td>\n",
       "    </tr>\n",
       "    <tr>\n",
       "      <th>2E</th>\n",
       "      <td>-0.982079</td>\n",
       "      <td>0.061258</td>\n",
       "      <td>0.040609</td>\n",
       "      <td>-0.058166</td>\n",
       "      <td>0.053537</td>\n",
       "    </tr>\n",
       "    <tr>\n",
       "      <th>2F</th>\n",
       "      <td>-0.888476</td>\n",
       "      <td>-0.142916</td>\n",
       "      <td>0.079900</td>\n",
       "      <td>-0.050621</td>\n",
       "      <td>0.104408</td>\n",
       "    </tr>\n",
       "    <tr>\n",
       "      <th>3E</th>\n",
       "      <td>-0.841581</td>\n",
       "      <td>-0.012763</td>\n",
       "      <td>-0.111660</td>\n",
       "      <td>-0.093556</td>\n",
       "      <td>0.082513</td>\n",
       "    </tr>\n",
       "    <tr>\n",
       "      <th>4B</th>\n",
       "      <td>-0.749490</td>\n",
       "      <td>-0.232482</td>\n",
       "      <td>0.288535</td>\n",
       "      <td>0.112990</td>\n",
       "      <td>0.046070</td>\n",
       "    </tr>\n",
       "    <tr>\n",
       "      <th>2B</th>\n",
       "      <td>-0.854217</td>\n",
       "      <td>0.252210</td>\n",
       "      <td>-0.046899</td>\n",
       "      <td>0.139595</td>\n",
       "      <td>-0.103051</td>\n",
       "    </tr>\n",
       "    <tr>\n",
       "      <th>3C</th>\n",
       "      <td>-0.344939</td>\n",
       "      <td>-0.001052</td>\n",
       "      <td>0.146804</td>\n",
       "      <td>0.772613</td>\n",
       "      <td>-0.319521</td>\n",
       "    </tr>\n",
       "    <tr>\n",
       "      <th>3B</th>\n",
       "      <td>-0.377164</td>\n",
       "      <td>0.430245</td>\n",
       "      <td>-0.571529</td>\n",
       "      <td>-0.124411</td>\n",
       "      <td>-0.083300</td>\n",
       "    </tr>\n",
       "    <tr>\n",
       "      <th>4A</th>\n",
       "      <td>0.210823</td>\n",
       "      <td>0.343253</td>\n",
       "      <td>0.463103</td>\n",
       "      <td>-0.087795</td>\n",
       "      <td>0.517333</td>\n",
       "    </tr>\n",
       "    <tr>\n",
       "      <th>1C</th>\n",
       "      <td>-0.404895</td>\n",
       "      <td>-0.617913</td>\n",
       "      <td>0.086844</td>\n",
       "      <td>-0.105549</td>\n",
       "      <td>-0.068575</td>\n",
       "    </tr>\n",
       "    <tr>\n",
       "      <th>4C</th>\n",
       "      <td>0.159033</td>\n",
       "      <td>0.323753</td>\n",
       "      <td>-0.374648</td>\n",
       "      <td>0.554894</td>\n",
       "      <td>0.439431</td>\n",
       "    </tr>\n",
       "    <tr>\n",
       "      <th>3A</th>\n",
       "      <td>-0.920805</td>\n",
       "      <td>0.202127</td>\n",
       "      <td>-0.001806</td>\n",
       "      <td>0.040738</td>\n",
       "      <td>0.025071</td>\n",
       "    </tr>\n",
       "    <tr>\n",
       "      <th>1A</th>\n",
       "      <td>0.101745</td>\n",
       "      <td>-0.679363</td>\n",
       "      <td>-0.508628</td>\n",
       "      <td>0.091741</td>\n",
       "      <td>0.078049</td>\n",
       "    </tr>\n",
       "    <tr>\n",
       "      <th>1B</th>\n",
       "      <td>-0.433768</td>\n",
       "      <td>-0.166202</td>\n",
       "      <td>-0.612373</td>\n",
       "      <td>-0.114688</td>\n",
       "      <td>-0.043165</td>\n",
       "    </tr>\n",
       "    <tr>\n",
       "      <th>SENTIMENT</th>\n",
       "      <td>-0.277320</td>\n",
       "      <td>-0.534031</td>\n",
       "      <td>-0.098351</td>\n",
       "      <td>0.109347</td>\n",
       "      <td>0.536631</td>\n",
       "    </tr>\n",
       "  </tbody>\n",
       "</table>\n",
       "</div>"
      ],
      "text/plain": [
       "            Principal_0_corr  Principal_1_corr  Principal_2_corr  \\\n",
       "TW_ACTIVIT         -0.883779          0.254235         -0.045203   \n",
       "3D                 -0.642438         -0.485120          0.300211   \n",
       "2D                 -0.974933          0.130061          0.004568   \n",
       "2C                 -0.975883          0.088509          0.018967   \n",
       "2A                 -0.972886          0.089670          0.042815   \n",
       "2E                 -0.982079          0.061258          0.040609   \n",
       "2F                 -0.888476         -0.142916          0.079900   \n",
       "3E                 -0.841581         -0.012763         -0.111660   \n",
       "4B                 -0.749490         -0.232482          0.288535   \n",
       "2B                 -0.854217          0.252210         -0.046899   \n",
       "3C                 -0.344939         -0.001052          0.146804   \n",
       "3B                 -0.377164          0.430245         -0.571529   \n",
       "4A                  0.210823          0.343253          0.463103   \n",
       "1C                 -0.404895         -0.617913          0.086844   \n",
       "4C                  0.159033          0.323753         -0.374648   \n",
       "3A                 -0.920805          0.202127         -0.001806   \n",
       "1A                  0.101745         -0.679363         -0.508628   \n",
       "1B                 -0.433768         -0.166202         -0.612373   \n",
       "SENTIMENT          -0.277320         -0.534031         -0.098351   \n",
       "\n",
       "            Principal_3_corr  Principal_4_corr  \n",
       "TW_ACTIVIT         -0.043025         -0.020210  \n",
       "3D                  0.107265         -0.088828  \n",
       "2D                 -0.055603          0.034648  \n",
       "2C                 -0.064500          0.045419  \n",
       "2A                 -0.054159          0.039727  \n",
       "2E                 -0.058166          0.053537  \n",
       "2F                 -0.050621          0.104408  \n",
       "3E                 -0.093556          0.082513  \n",
       "4B                  0.112990          0.046070  \n",
       "2B                  0.139595         -0.103051  \n",
       "3C                  0.772613         -0.319521  \n",
       "3B                 -0.124411         -0.083300  \n",
       "4A                 -0.087795          0.517333  \n",
       "1C                 -0.105549         -0.068575  \n",
       "4C                  0.554894          0.439431  \n",
       "3A                  0.040738          0.025071  \n",
       "1A                  0.091741          0.078049  \n",
       "1B                 -0.114688         -0.043165  \n",
       "SENTIMENT           0.109347          0.536631  "
      ]
     },
     "execution_count": 31,
     "metadata": {},
     "output_type": "execute_result"
    }
   ],
   "source": [
    "corr_dataframe = compute_corr_dataframes(standard_data, principalComponents)\n",
    "corr_dataframe"
   ]
  },
  {
   "cell_type": "code",
   "execution_count": 32,
   "metadata": {},
   "outputs": [],
   "source": [
    "# Save the correlation to the local directory\n",
    "corr_dataframe.to_excel(os.path.join(data_path, 'corr_data.xlsx'))"
   ]
  },
  {
   "cell_type": "markdown",
   "metadata": {},
   "source": [
    "### Get the transformed data for clustering"
   ]
  },
  {
   "cell_type": "code",
   "execution_count": 33,
   "metadata": {},
   "outputs": [],
   "source": [
    "transformed_data = PCA(n_components=5).fit_transform(standard_data)"
   ]
  },
  {
   "cell_type": "code",
   "execution_count": 34,
   "metadata": {},
   "outputs": [
    {
     "data": {
      "text/plain": [
       "(817, 5)"
      ]
     },
     "execution_count": 34,
     "metadata": {},
     "output_type": "execute_result"
    }
   ],
   "source": [
    "transformed_data.shape"
   ]
  },
  {
   "cell_type": "markdown",
   "metadata": {},
   "source": [
    "# 3. Clustering analysis"
   ]
  },
  {
   "cell_type": "markdown",
   "metadata": {},
   "source": [
    "### Hierarchical clustering"
   ]
  },
  {
   "cell_type": "code",
   "execution_count": 35,
   "metadata": {},
   "outputs": [],
   "source": [
    "def draw_dendrogram(data, color_threshold_val: float):\n",
    "    # Plot the dendrogram\n",
    "    figure, axis = plt.subplots(1, 1, figsize=(17, 10), dpi=200)\n",
    "    axis.set_title('POI Clustering', size=20)\n",
    "    axis.set_xlabel('POI places', size=18)\n",
    "    axis.set_ylabel('Euclidean distances', size=18)\n",
    "    dendrogram = sch.dendrogram(sch.linkage(data, method = 'ward'), \n",
    "                                color_threshold=color_threshold_val, \n",
    "                               above_threshold_color='black')\n",
    "    axis.axhline(color_threshold_val, linestyle='--', color='black', alpha=0.8)\n",
    "    \n",
    "    # Edit the xlabels\n",
    "    axis.set_xticks([])\n",
    "    setup_axis(axis)\n",
    "    \n",
    "    figure.savefig(os.path.join(figure_path, 'dendrogram.png'), bbox_inches='tight')"
   ]
  },
  {
   "cell_type": "markdown",
   "metadata": {},
   "source": [
    "We think setting the number of clusters equals 4 is appropriate."
   ]
  },
  {
   "cell_type": "code",
   "execution_count": 36,
   "metadata": {},
   "outputs": [
    {
     "data": {
      "image/png": "[encoded data removed]",
      "text/plain": [
       "<Figure size 3400x2000 with 1 Axes>"
      ]
     },
     "metadata": {
      "needs_background": "light"
     },
     "output_type": "display_data"
    }
   ],
   "source": [
    "draw_dendrogram(data=transformed_data, color_threshold_val=0)"
   ]
  },
  {
   "cell_type": "markdown",
   "metadata": {},
   "source": [
    "### Predict the labels"
   ]
  },
  {
   "cell_type": "code",
   "execution_count": 37,
   "metadata": {},
   "outputs": [],
   "source": [
    "cluster_4 = AgglomerativeClustering(n_clusters=4, affinity='euclidean', linkage='ward')\n",
    "cluster_4_labels = cluster_4.fit_predict(standard_data)"
   ]
  },
  {
   "cell_type": "code",
   "execution_count": 38,
   "metadata": {},
   "outputs": [
    {
     "data": {
      "text/plain": [
       "Counter({3: 261, 2: 207, 1: 231, 0: 118})"
      ]
     },
     "execution_count": 38,
     "metadata": {},
     "output_type": "execute_result"
    }
   ],
   "source": [
    "Counter(cluster_4_labels)"
   ]
  },
  {
   "cell_type": "markdown",
   "metadata": {},
   "source": [
    "### Plot the pois belonging to different clusters"
   ]
  },
  {
   "cell_type": "code",
   "execution_count": 39,
   "metadata": {},
   "outputs": [],
   "source": [
    "color_dict = {0: 'red', 1: 'blue', 2: 'green', 3: 'yellow'}"
   ]
  },
  {
   "cell_type": "code",
   "execution_count": 40,
   "metadata": {},
   "outputs": [],
   "source": [
    "poi_shapefile_4326['cluster'] = cluster_4_labels\n",
    "poi_shapefile_4326['colors'] = poi_shapefile_4326.apply(lambda row: color_dict[row.cluster], axis=1)"
   ]
  },
  {
   "cell_type": "code",
   "execution_count": 41,
   "metadata": {},
   "outputs": [
    {
     "data": {
      "image/png": "[encoded data removed]",
      "text/plain": [
       "<Figure size 720x1224 with 1 Axes>"
      ]
     },
     "metadata": {
      "needs_background": "light"
     },
     "output_type": "display_data"
    }
   ],
   "source": [
    "poi_figure, poi_axis = plt.subplots(1, 1, figsize=(10, 17))\n",
    "tricity_border.plot(ax=poi_axis, color='white', edgecolor='black', linewidth=1.0, zorder=1)\n",
    "poi_shapefile_4326.plot(ax=poi_axis, legend=True, color=poi_shapefile_4326['colors'],\n",
    "                        categorical=True, legend_kwds={'loc': \"upper left\"}, zorder=2)\n",
    "poi_figure.savefig(os.path.join(figure_path, 'poi_cluster.png'), bbox_inches='tight')"
   ]
  },
  {
   "cell_type": "markdown",
   "metadata": {},
   "source": [
    "### Save the clustering results for the following analysis"
   ]
  },
  {
   "cell_type": "code",
   "execution_count": 42,
   "metadata": {},
   "outputs": [],
   "source": [
    "combined_data = pd.concat([poi_data, principal_component_data], axis=1)\n",
    "combined_data['cluster_label'] = cluster_4_labels"
   ]
  },
  {
   "cell_type": "code",
   "execution_count": 43,
   "metadata": {},
   "outputs": [],
   "source": [
    "combined_data.to_excel(os.path.join(data_path, 'poi_clustering_results.xlsx'))"
   ]
  },
  {
   "cell_type": "code",
   "execution_count": null,
   "metadata": {},
   "outputs": [],
   "source": []
  }
 ],
 "metadata": {
  "kernelspec": {
   "display_name": "Python 3",
   "language": "python",
   "name": "python3"
  },
  "language_info": {
   "codemirror_mode": {
    "name": "ipython",
    "version": 3
   },
   "file_extension": ".py",
   "mimetype": "text/x-python",
   "name": "python",
   "nbconvert_exporter": "python",
   "pygments_lexer": "ipython3",
   "version": "3.7.8"
  }
 },
 "nbformat": 4,
 "nbformat_minor": 4
}
